{
 "cells": [
  {
   "cell_type": "markdown",
   "metadata": {},
   "source": [
    "# <a name=\"exercises\"></a>Exercises\n",
    "\n",
    "1) [Variables and Print](#variables-and-print)\n",
    "\n",
    "2) [Functions](#functions)\n",
    "\n",
    "3) [Control structures](#control-structures)\n",
    "\n",
    "4) [List](#list)\n",
    "\n",
    "5) [File](#file)\n",
    "\n",
    "6) [Text processing](#text-processing)\n"
   ]
  },
  {
   "cell_type": "markdown",
   "metadata": {},
   "source": [
    "## <a name=\"variables-and-print\"></a>1) Variables and Print\n",
    "\n",
    "**Q1a)** Ask user information, for ex: `name`, `department`, `college` etc and display them using print function\n",
    "\n",
    "```\n",
    "# Sample of how program might ask user input and display output afterwards\n",
    "$ ./usr_ip.py \n",
    "Please provide the following details\n",
    "Enter your name: learnbyexample\n",
    "Enter your department: ECE\n",
    "Enter your college: PSG Tech\n",
    "\n",
    "------------------------------------\n",
    "Name       : learnbyexample\n",
    "Department : ECE\n",
    "College    : PSG Tech\n",
    "```\n",
    "\n",
    "<br>"
   ]
  },
  {
   "cell_type": "code",
   "execution_count": 5,
   "metadata": {},
   "outputs": [
    {
     "name": "stdout",
     "output_type": "stream",
     "text": [
      "Help on method_descriptor:\n",
      "\n",
      "format(...)\n",
      "    S.format(*args, **kwargs) -> str\n",
      "    \n",
      "    Return a formatted version of S, using substitutions from args and kwargs.\n",
      "    The substitutions are identified by braces ('{' and '}').\n",
      "\n"
     ]
    }
   ],
   "source": [
    "help(str.format)"
   ]
  },
  {
   "cell_type": "code",
   "execution_count": 4,
   "metadata": {},
   "outputs": [
    {
     "name": "stdout",
     "output_type": "stream",
     "text": [
      "Help on method raw_input in module ipykernel.kernelbase:\n",
      "\n",
      "raw_input(prompt='') method of ipykernel.ipkernel.IPythonKernel instance\n",
      "    Forward raw_input to frontends\n",
      "    \n",
      "    Raises\n",
      "    ------\n",
      "    StdinNotImplentedError if active frontend doesn't support stdin.\n",
      "\n"
     ]
    }
   ],
   "source": [
    "help(input)"
   ]
  },
  {
   "cell_type": "code",
   "execution_count": 2,
   "metadata": {},
   "outputs": [
    {
     "name": "stdout",
     "output_type": "stream",
     "text": [
      "Please provide the following details\n",
      "Enter your name:joe\n",
      "Enter your department:CS\n",
      "Enter your college:STEM\n",
      "\n",
      "------------------------------------\n",
      "Name       : joe\n",
      "Department : CS\n",
      "College    : STEM\n"
     ]
    }
   ],
   "source": [
    "#hint ?input ?str.format\n",
    "print('Please provide the following details')\n",
    "\n",
    "name = input('Enter your name:')\n",
    "dept = input('Enter your department:')\n",
    "colg = input('Enter your college:')\n",
    "\n",
    "op_fmt = '{:<11}: {}'\n",
    "\n",
    "print('\\n------------------------------------')\n",
    "print(op_fmt.format('Name', name))\n",
    "print(op_fmt.format('Department', dept))\n",
    "print(op_fmt.format('College', colg))"
   ]
  },
  {
   "cell_type": "markdown",
   "metadata": {},
   "source": [
    "## <a name=\"functions\"></a>2) Functions\n",
    "\n",
    "**Q2a)** Returns the number of digits of integer numbers\n",
    "\n",
    "```python\n",
    ">>> len_int(962306349871524124750813401378124)\n",
    "33\n",
    ">>> len_int(+42)\n",
    "2\n",
    ">>> len_int(-42)\n",
    "2\n",
    "\n",
    "# len_int('a') should give\n",
    "TypeError: provide only integer input\n",
    "```"
   ]
  },
  {
   "cell_type": "code",
   "execution_count": 8,
   "metadata": {},
   "outputs": [],
   "source": [
    "?type\n",
    "# Init signature: type(self, /, *args, **kwargs)\n",
    "# Docstring:     \n",
    "# type(object_or_name, bases, dict)\n",
    "# type(object) -> the object's type\n",
    "# type(name, bases, dict) -> a new type\n",
    "# Type:           type"
   ]
  },
  {
   "cell_type": "code",
   "execution_count": 10,
   "metadata": {
    "scrolled": true
   },
   "outputs": [
    {
     "name": "stdout",
     "output_type": "stream",
     "text": [
      "Help on built-in function abs in module builtins:\n",
      "\n",
      "abs(x, /)\n",
      "    Return the absolute value of the argument.\n",
      "\n"
     ]
    }
   ],
   "source": [
    "help(abs)"
   ]
  },
  {
   "cell_type": "code",
   "execution_count": 14,
   "metadata": {},
   "outputs": [],
   "source": [
    "?str\n",
    "# Init signature: str(self, /, *args, **kwargs)\n",
    "# Docstring:     \n",
    "# str(object='') -> str\n",
    "# str(bytes_or_buffer[, encoding[, errors]]) -> str\n",
    "\n",
    "# Create a new string object from the given object. If encoding or\n",
    "# errors is specified, then the object must expose a data buffer\n",
    "# that will be decoded using the given encoding and error handler.\n",
    "# Otherwise, returns the result of object.__str__() (if defined)\n",
    "# or repr(object).\n",
    "# encoding defaults to sys.getdefaultencoding().\n",
    "# errors defaults to 'strict'.\n",
    "# Type:           type"
   ]
  },
  {
   "cell_type": "code",
   "execution_count": 16,
   "metadata": {},
   "outputs": [
    {
     "name": "stdout",
     "output_type": "stream",
     "text": [
      "Help on built-in function len in module builtins:\n",
      "\n",
      "len(obj, /)\n",
      "    Return the number of items in a container.\n",
      "\n"
     ]
    }
   ],
   "source": [
    "help(len)"
   ]
  },
  {
   "cell_type": "code",
   "execution_count": 2,
   "metadata": {},
   "outputs": [
    {
     "name": "stdout",
     "output_type": "stream",
     "text": [
      "all tests passed\n"
     ]
    }
   ],
   "source": [
    "#hint ?type ?abs ?str ?len\n",
    "\n",
    "def len_int(n):\n",
    "    if type(n) is int:\n",
    "        return len(str(abs(n)))\n",
    "    else: \n",
    "        raise TypeError('provide only integer input')\n",
    "\n",
    "assert len_int(123) == 3\n",
    "assert len_int(2) == 1\n",
    "assert len_int(+42) == 2\n",
    "assert len_int(-42) == 2\n",
    "assert len_int(572342) == 6\n",
    "assert len_int(962306349871524124750813401378124) == 33\n",
    "\n",
    "try:\n",
    "    len_int('a')\n",
    "except TypeError as e:\n",
    "    assert str(e) == 'provide only integer input'\n",
    "\n",
    "print('all tests passed')"
   ]
  },
  {
   "cell_type": "markdown",
   "metadata": {},
   "source": [
    "**Q2b)** Returns True/False - two strings are same irrespective of lowercase/uppercase\n",
    "\n",
    "```python\n",
    ">>> str_cmp('nice', 'nice')\n",
    "True\n",
    ">>> str_cmp('Hi there', 'hi there')\n",
    "True\n",
    ">>> str_cmp('GoOd DaY', 'gOOd dAy')\n",
    "True\n",
    ">>> str_cmp('foo', 'food')\n",
    "False\n",
    "```"
   ]
  },
  {
   "cell_type": "markdown",
   "metadata": {},
   "source": [
    "**Note**\n",
    "```is``` returns ```True``` if two variables point to the same object"
   ]
  },
  {
   "cell_type": "code",
   "execution_count": 50,
   "metadata": {},
   "outputs": [
    {
     "data": {
      "text/plain": [
       "False"
      ]
     },
     "execution_count": 50,
     "metadata": {},
     "output_type": "execute_result"
    }
   ],
   "source": [
    "sa = ['a', 'b', 'c']\n",
    "sb = ['a', 'b', 'c']\n",
    "sa is sb"
   ]
  },
  {
   "cell_type": "markdown",
   "metadata": {},
   "source": [
    "```==``` returns ```True``` if the values of the two variables are the same"
   ]
  },
  {
   "cell_type": "code",
   "execution_count": 51,
   "metadata": {},
   "outputs": [
    {
     "data": {
      "text/plain": [
       "True"
      ]
     },
     "execution_count": 51,
     "metadata": {},
     "output_type": "execute_result"
    }
   ],
   "source": [
    "sa == sb"
   ]
  },
  {
   "cell_type": "markdown",
   "metadata": {},
   "source": [
    "for ```int```, ```float```, ```str``` and ```bool```, ```is``` and ```==``` are interchangeable."
   ]
  },
  {
   "cell_type": "code",
   "execution_count": 18,
   "metadata": {},
   "outputs": [
    {
     "name": "stdout",
     "output_type": "stream",
     "text": [
      "Help on method_descriptor:\n",
      "\n",
      "lower(self, /)\n",
      "    Return a copy of the string converted to lowercase.\n",
      "\n"
     ]
    }
   ],
   "source": [
    "help(str.lower)"
   ]
  },
  {
   "cell_type": "code",
   "execution_count": 57,
   "metadata": {},
   "outputs": [
    {
     "name": "stdout",
     "output_type": "stream",
     "text": [
      "all tests passed\n"
     ]
    }
   ],
   "source": [
    "#hint ?str.lower\n",
    "\n",
    "def str_cmp(s1, s2):\n",
    "    isequal = None\n",
    "    isequal = s1.lower() == s2.lower()\n",
    "    return isequal\n",
    "\n",
    "assert str_cmp('abc', 'Abc')\n",
    "assert str_cmp('Hi there', 'hi there')\n",
    "assert not str_cmp('foo', 'food')\n",
    "assert str_cmp('nice', 'nice')\n",
    "assert str_cmp('GoOd DaY', 'gOOd dAy')\n",
    "assert not str_cmp('how', 'who')\n",
    "\n",
    "print('all tests passed')\n"
   ]
  },
  {
   "cell_type": "markdown",
   "metadata": {},
   "source": [
    "**Q2c)** Returns True/False - two strings are anagrams (assume input consists of alphabets only)\n",
    "\n",
    "```python\n",
    ">>> str_anagram('god', 'Dog')\n",
    "True\n",
    ">>> str_anagram('beat', 'table')\n",
    "False\n",
    ">>> str_anagram('Tap', 'paT')\n",
    "True\n",
    ">>> str_anagram('beat', 'abet')\n",
    "True\n",
    "```"
   ]
  },
  {
   "cell_type": "code",
   "execution_count": 61,
   "metadata": {},
   "outputs": [
    {
     "name": "stdout",
     "output_type": "stream",
     "text": [
      "a\n",
      "b\n",
      "c\n"
     ]
    }
   ],
   "source": [
    "for i in 'abc':\n",
    "    print(i)"
   ]
  },
  {
   "cell_type": "code",
   "execution_count": 20,
   "metadata": {},
   "outputs": [
    {
     "name": "stdout",
     "output_type": "stream",
     "text": [
      "Help on built-in function sorted in module builtins:\n",
      "\n",
      "sorted(iterable, /, *, key=None, reverse=False)\n",
      "    Return a new list containing all items from the iterable in ascending order.\n",
      "    \n",
      "    A custom key function can be supplied to customize the sort order, and the\n",
      "    reverse flag can be set to request the result in descending order.\n",
      "\n"
     ]
    }
   ],
   "source": [
    "help(sorted)"
   ]
  },
  {
   "cell_type": "code",
   "execution_count": 65,
   "metadata": {},
   "outputs": [
    {
     "name": "stdout",
     "output_type": "stream",
     "text": [
      "all tests passed\n"
     ]
    }
   ],
   "source": [
    "#hint ?sorted\n",
    "\n",
    "def str_anagram(s1, s2):\n",
    "    isanagram = sorted(s1.lower()) == sorted(str.lower(s2))\n",
    "    return isanagram\n",
    "\n",
    "assert str_anagram('god', 'Dog')\n",
    "assert str_anagram('beat', 'abet')\n",
    "assert str_anagram('Tap', 'paT')\n",
    "assert not str_anagram('beat', 'table')\n",
    "assert not str_anagram('seat', 'teal')\n",
    "\n",
    "print('all tests passed')\n"
   ]
  },
  {
   "cell_type": "markdown",
   "metadata": {},
   "source": [
    "**Q2d)** Returns corresponding integer or floating-point number (See [Number and String data types](.\\number-and-string-data-types.html)  for details)\n",
    "\n",
    "```python\n",
    "# number input\n",
    ">>> num(3)\n",
    "3\n",
    ">>> num(0x1f)\n",
    "31\n",
    ">>> num(3.32)\n",
    "3.32\n",
    "\n",
    "# string input\n",
    ">>> num('123')\n",
    "123\n",
    ">>> num('-78')\n",
    "-78\n",
    ">>> num(\" 42  \\n \")\n",
    "42\n",
    ">>> num('3.14')\n",
    "3.14\n",
    ">>> num('3.982e5')\n",
    "398200.0\n",
    "\n",
    ">>> s = '56'\n",
    ">>> num(s) + 44\n",
    "100\n",
    "```\n",
    "\n",
    "Other than integer or floating, only string data type should be accepted. Also, provide custom error message if input cannot be converted\n",
    "\n",
    "```python\n",
    "# num(['1', '2.3'])\n",
    "TypeError: not a valid input\n",
    "\n",
    "# num('foo')\n",
    "ValueError: could not convert string to int or float\n",
    "```"
   ]
  },
  {
   "cell_type": "code",
   "execution_count": 105,
   "metadata": {},
   "outputs": [
    {
     "name": "stdout",
     "output_type": "stream",
     "text": [
      "Not a real number\n"
     ]
    },
    {
     "data": {
      "text/plain": [
       "(None, NoneType)"
      ]
     },
     "execution_count": 105,
     "metadata": {},
     "output_type": "execute_result"
    }
   ],
   "source": [
    "ret = num('ee')\n",
    "ret, type(ret)"
   ]
  },
  {
   "cell_type": "code",
   "execution_count": 106,
   "metadata": {},
   "outputs": [
    {
     "name": "stdout",
     "output_type": "stream",
     "text": [
      "all tests passed\n"
     ]
    }
   ],
   "source": [
    "#hint ?type \n",
    "#hint try and except, ValueError\n",
    "\n",
    "def num(ip):\n",
    "    if type(ip) in [int, float]:\n",
    "        return ip\n",
    "    elif type(ip) is bool:\n",
    "        return int(ip)\n",
    "    elif type(ip) is str:\n",
    "        try:\n",
    "            return int(ip)\n",
    "        except ValueError:\n",
    "            try:\n",
    "                return float(ip)\n",
    "            except ValueError:\n",
    "                raise ValueError('could not convert string to int or float')\n",
    "    else:\n",
    "        raise TypeError('not a valid input')\n",
    "\n",
    "\n",
    "\n",
    "\n",
    "assert num(3) == 3\n",
    "assert num(0x1f) == 31\n",
    "assert num(0b101) == 5\n",
    "assert num(0o10) == 8\n",
    "assert num(3.32) == 3.32\n",
    "assert num('123') == 123\n",
    "assert num('-78') == -78\n",
    "assert num(\" 42  \\n \") == 42\n",
    "assert num('3.14') == 3.14\n",
    "assert num('3.982e5') == 398200.0\n",
    "s = '56'\n",
    "assert num(s) + 44 == 100\n",
    "s = '8' * 10\n",
    "assert num(s) == 8888888888\n",
    "\n",
    "try:\n",
    "    num('foo')\n",
    "except ValueError as e:\n",
    "    assert str(e) == 'could not convert string to int or float'\n",
    "\n",
    "try:\n",
    "    num(['1', '2.3'])\n",
    "except TypeError as e:\n",
    "    assert str(e) == 'not a valid input'\n",
    "\n",
    "print('all tests passed')\n"
   ]
  },
  {
   "cell_type": "code",
   "execution_count": 110,
   "metadata": {},
   "outputs": [
    {
     "name": "stdout",
     "output_type": "stream",
     "text": [
      "all tests passed\n"
     ]
    }
   ],
   "source": [
    "def is_number(n):\n",
    "    try:\n",
    "        float(n)\n",
    "        return True\n",
    "    except ValueError:\n",
    "        return False\n",
    "\n",
    "def num(ip):\n",
    "    if type(ip) in [int, float]:\n",
    "        return ip\n",
    "    elif type(ip) is bool:\n",
    "        return int(ip)\n",
    "    elif type(ip) is str:\n",
    "        if is_number(ip):\n",
    "            try:\n",
    "                return int(ip)\n",
    "            except ValueError:\n",
    "                return float(ip)\n",
    "        else:\n",
    "            raise ValueError('could not convert string to int or float')\n",
    "    else:\n",
    "        raise TypeError('not a valid input')\n",
    "        \n",
    "\n",
    "\n",
    "assert num(3) == 3\n",
    "assert num(0x1f) == 31\n",
    "assert num(0b101) == 5\n",
    "assert num(0o10) == 8\n",
    "assert num(3.32) == 3.32\n",
    "assert num('123') == 123\n",
    "assert num('-78') == -78\n",
    "assert num(\" 42  \\n \") == 42\n",
    "assert num('3.14') == 3.14\n",
    "assert num('3.982e5') == 398200.0\n",
    "s = '56'\n",
    "assert num(s) + 44 == 100\n",
    "s = '8' * 10\n",
    "assert num(s) == 8888888888\n",
    "\n",
    "try:\n",
    "    num('foo')\n",
    "except ValueError as e:\n",
    "    assert str(e) == 'could not convert string to int or float'\n",
    "\n",
    "try:\n",
    "    num(['1', '2.3'])\n",
    "except TypeError as e:\n",
    "    assert str(e) == 'not a valid input'\n",
    "\n",
    "print('all tests passed')\n"
   ]
  },
  {
   "cell_type": "markdown",
   "metadata": {},
   "source": [
    "## <a name=\"control-structures\"></a>3) Control structures\n",
    "\n",
    "**Q3a)** Write a function that returns\n",
    "\n",
    "* 'Good' for numbers divisible by 7\n",
    "* 'Food' for numbers divisible by 6\n",
    "* 'Universe' for numbers divisible by 42\n",
    "* 'Oops' for all other numbers\n",
    "* Only one output, divisible by 42 takes precedence\n",
    "\n",
    "```python\n",
    ">>> six_by_seven(66)\n",
    "'Food'\n",
    ">>> six_by_seven(13)\n",
    "'Oops'\n",
    ">>> six_by_seven(42)\n",
    "'Universe'\n",
    ">>> six_by_seven(14)\n",
    "'Good'\n",
    ">>> six_by_seven(84)\n",
    "'Universe'\n",
    ">>> six_by_seven(235432)\n",
    "'Oops'\n",
    "```\n",
    "\n",
    "*bonus*: use a loop to print number and corresponding string for numbers 1 to 100\n",
    "\n",
    "```python\n",
    "1 Oops\n",
    "2 Oops\n",
    "3 Oops\n",
    "4 Oops\n",
    "5 Oops\n",
    "6 Food\n",
    "7 Good\n",
    "...\n",
    "41 Oops\n",
    "42 Universe\n",
    "...\n",
    "98 Good\n",
    "99 Oops\n",
    "100 Oops\n",
    "```"
   ]
  },
  {
   "cell_type": "code",
   "execution_count": 24,
   "metadata": {},
   "outputs": [
    {
     "name": "stdout",
     "output_type": "stream",
     "text": [
      "all tests passed\n"
     ]
    }
   ],
   "source": [
    "#!/usr/bin/python3\n",
    "\n",
    "def six_by_seven(num):\n",
    "    pass\n",
    "    # write your code here\n",
    "    if num%42 == 0:\n",
    "        return 'Universe'\n",
    "    elif num%6 == 0:\n",
    "        return 'Food'\n",
    "    elif num%7 == 0:\n",
    "        return 'Good'\n",
    "    else:\n",
    "        return 'Oops'\n",
    "\n",
    "assert six_by_seven(66) == 'Food'\n",
    "assert six_by_seven(13) == 'Oops'\n",
    "assert six_by_seven(42) == 'Universe'\n",
    "assert six_by_seven(14) == 'Good'\n",
    "assert six_by_seven(84) == 'Universe'\n",
    "assert six_by_seven(235432) == 'Oops'\n",
    "\n",
    "print('all tests passed')\n",
    "\n",
    "## bonus\n",
    "#for num in range(1, 101):\n",
    "#    print(num, six_by_seven(num))\n"
   ]
  },
  {
   "cell_type": "markdown",
   "metadata": {},
   "source": [
    "**Q3b)** Print all numbers from 1 to 1000 which reads the same in reversed form in both binary and decimal format\n",
    "\n",
    "```\n",
    "1 1\n",
    "3 11\n",
    "5 101\n",
    "7 111\n",
    "9 1001\n",
    "33 100001\n",
    "99 1100011\n",
    "313 100111001\n",
    "585 1001001001\n",
    "717 1011001101\n",
    "```"
   ]
  },
  {
   "cell_type": "code",
   "execution_count": 3,
   "metadata": {},
   "outputs": [],
   "source": [
    "#!/usr/bin/python3\n",
    "\n",
    "for n in range(1, 1001):\n",
    "    pass\n",
    "    # write your code here"
   ]
  },
  {
   "cell_type": "markdown",
   "metadata": {},
   "source": [
    "## <a name=\"list\"></a>4) List\n",
    "\n",
    "**Q4a)** Write a function that returns product of all numbers of a list\n",
    "\n",
    "```python\n",
    ">>> product([1, 4, 21])\n",
    "84\n",
    ">>> product([-4, 2.3e12, 77.23, 982, 0b101])\n",
    "-3.48863356e+18\n",
    "```\n",
    "\n",
    "*bonus*: works on any kind of iterable\n",
    "\n",
    "```python\n",
    ">>> product((-3, 11, 2))\n",
    "-66\n",
    ">>> product({8, 300})\n",
    "2400\n",
    ">>> product([234, 121, 23, 945, 0])\n",
    "0\n",
    ">>> product(range(2, 6))\n",
    "120\n",
    "# can you identify what mathematical function the last one performs?\n",
    "```\n"
   ]
  },
  {
   "cell_type": "code",
   "execution_count": 33,
   "metadata": {},
   "outputs": [
    {
     "name": "stdout",
     "output_type": "stream",
     "text": [
      "Help on built-in function iter in module builtins:\n",
      "\n",
      "iter(...)\n",
      "    iter(iterable) -> iterator\n",
      "    iter(callable, sentinel) -> iterator\n",
      "    \n",
      "    Get an iterator from an object.  In the first form, the argument must\n",
      "    supply its own iterator, or be a sequence.\n",
      "    In the second form, the callable is called until it returns the sentinel.\n",
      "\n"
     ]
    }
   ],
   "source": [
    "help(iter)"
   ]
  },
  {
   "cell_type": "code",
   "execution_count": 31,
   "metadata": {},
   "outputs": [
    {
     "name": "stdout",
     "output_type": "stream",
     "text": [
      "all tests passed\n"
     ]
    }
   ],
   "source": [
    "#!/usr/bin/python3\n",
    "\n",
    "def product(ip_iterable):\n",
    "    op = 1\n",
    "    # write your code here\n",
    "    for i in iter(ip_iterable):\n",
    "        op = op * i\n",
    "    return op\n",
    "\n",
    "assert product([1, 4, 21]) == 84\n",
    "assert product([-4, 2.3e12, 77.23, 982, 0b101]) == -3.48863356e+18\n",
    "assert product((-3, 11, 2)) == -66\n",
    "assert product({8, 300}) == 2400\n",
    "assert product([234, 121, 23, 945, 0]) == 0\n",
    "assert product(range(1, 6)) == 120\n",
    "\n",
    "print('all tests passed')\n"
   ]
  },
  {
   "cell_type": "markdown",
   "metadata": {},
   "source": [
    "**Q4b)** Write a function that returns nth lowest number of a list (or iterable in general). Return the lowest if second argument not specified\n",
    "\n",
    "*Note* that if a list contains duplicates, they should be handled before determining nth lowest\n",
    "\n",
    "```python\n",
    ">>> nums = [42, 23421341, 234.2e3, 21, 232, 12312, -2343]\n",
    ">>> nth_lowest(nums, 3)\n",
    "42\n",
    ">>> nth_lowest(nums, 5)\n",
    "12312\n",
    ">>> nth_lowest(nums, 15)\n",
    "Traceback (most recent call last):\n",
    "  File \"<stdin>\", line 1, in <module>\n",
    "  File \"<stdin>\", line 2, in nth_lowest\n",
    "IndexError: list index out of range\n",
    "\n",
    ">>> nums = [1, -2, 4, 2, 1, 3, 3, 5]\n",
    ">>> nth_lowest(nums)\n",
    "-2\n",
    ">>> nth_lowest(nums, 4)\n",
    "3\n",
    ">>> nth_lowest(nums, 5)\n",
    "4\n",
    "\n",
    ">>> nth_lowest('unrecognizable', 3)\n",
    "'c'\n",
    ">>> nth_lowest('abracadabra', 4)\n",
    "'d'\n",
    "```"
   ]
  },
  {
   "cell_type": "code",
   "execution_count": 43,
   "metadata": {},
   "outputs": [
    {
     "name": "stdout",
     "output_type": "stream",
     "text": [
      "[-2, 1, 1, 2, 3, 3, 4, 5]\n"
     ]
    }
   ],
   "source": [
    "nums = [1, -2, 4, 2, 1, 3, 3, 5]\n",
    "new = sorted(nums)\n",
    "print(new)"
   ]
  },
  {
   "cell_type": "code",
   "execution_count": 46,
   "metadata": {},
   "outputs": [
    {
     "name": "stdout",
     "output_type": "stream",
     "text": [
      "all tests passed\n"
     ]
    }
   ],
   "source": [
    "#!/usr/bin/python3\n",
    "import pandas as pd\n",
    "\n",
    "def nth_lowest(ip_iterable, n=1):\n",
    "    pass\n",
    "    # write your code here\n",
    "    ip_iter = pd.Series(ip_iterable)\n",
    "    ip_iter = ip_iter.unique()\n",
    "    \n",
    "    if type(ip_iterable) == str:\n",
    "        newstr = sorted(ip_iterable)\n",
    "        return newstr[n-1]\n",
    "    else:\n",
    "        newip = sorted(ip_iter)\n",
    "        return newip[n-1]\n",
    "\n",
    "nums = [42, 23421341, 234.2e3, 21, 232, 12312, -2343]\n",
    "assert nth_lowest(nums, 3) == 42\n",
    "assert nth_lowest(nums, 5) == 12312\n",
    "\n",
    "nums = [1, -2, 4, 2, 1, 3, 3, 5]\n",
    "assert nth_lowest(nums) == -2\n",
    "assert nth_lowest(nums, 4) == 3\n",
    "\n",
    "assert nth_lowest('unrecognizable', 3) == 'c'\n",
    "\n",
    "print('all tests passed')\n"
   ]
  },
  {
   "cell_type": "markdown",
   "metadata": {},
   "source": [
    "**Q4c)** Write a function that accepts a string input and returns slices\n",
    "\n",
    "* if input string is less than 3 characters long, return a list with input string as the only element\n",
    "* otherwise, return list with all string slices greater than 1 character long\n",
    "* order of slices should be same as shown in examples below\n",
    "\n",
    "```python\n",
    ">>> word_slices('i')\n",
    "['i']\n",
    ">>> word_slices('to')\n",
    "['to']\n",
    "\n",
    ">>> word_slices('are')\n",
    "['ar', 'are', 're']\n",
    ">>> word_slices('table')\n",
    "['ta', 'tab', 'tabl', 'table', 'ab', 'abl', 'able', 'bl', 'ble', 'le']\n",
    "```\n"
   ]
  },
  {
   "cell_type": "code",
   "execution_count": 80,
   "metadata": {},
   "outputs": [
    {
     "data": {
      "text/plain": [
       "'ar'"
      ]
     },
     "execution_count": 80,
     "metadata": {},
     "output_type": "execute_result"
    }
   ],
   "source": [
    "s = 'are'\n",
    "# a = range(2,len(s)+10)\n",
    "# print(a)\n",
    "s[0:2]"
   ]
  },
  {
   "cell_type": "code",
   "execution_count": 82,
   "metadata": {},
   "outputs": [
    {
     "name": "stdout",
     "output_type": "stream",
     "text": [
      "all tests passed\n"
     ]
    }
   ],
   "source": [
    "def word_slices(s):\n",
    "    pass\n",
    "    # write your code here\n",
    "    array = []\n",
    "    total = 0\n",
    "        \n",
    "    if len(s) <= 2:\n",
    "        array.append(s)\n",
    "        return array\n",
    "    else:\n",
    "        for i in range(len(s)-1):\n",
    "            for j in range(i+2,len(s)+1):\n",
    "                array.append(s[i:j])\n",
    "    return array\n",
    "\n",
    "assert word_slices('i') == [\"i\"]\n",
    "assert word_slices('to') == [\"to\"]\n",
    "assert word_slices('are') == [\"ar\", \"are\", \"re\"]\n",
    "assert word_slices('boat') == [\"bo\", \"boa\", \"boat\", \"oa\", \"oat\", \"at\"]\n",
    "assert word_slices('table') == [\"ta\", \"tab\", \"tabl\", \"table\", \"ab\",\n",
    "                                      \"abl\", \"able\", \"bl\", \"ble\", \"le\"]\n",
    "\n",
    "print('all tests passed')\n"
   ]
  },
  {
   "cell_type": "markdown",
   "metadata": {},
   "source": [
    "## <a name=\"file\"></a>5) File\n",
    "\n",
    "**Q5a)** Print sum of all numbers from a file containing only single column and all numbers, for instance, the sum of numbers in file ```f1.txt```(see below) is ```10485.14```\n",
    "\n",
    "\n",
    "```\n",
    "8\n",
    "53\n",
    "3.14\n",
    "84\n",
    "73e2\n",
    "100\n",
    "2937\n",
    "```\n",
    "\n",
    "\n"
   ]
  },
  {
   "cell_type": "code",
   "execution_count": 47,
   "metadata": {},
   "outputs": [
    {
     "data": {
      "text/plain": [
       "10485.14"
      ]
     },
     "execution_count": 47,
     "metadata": {},
     "output_type": "execute_result"
    }
   ],
   "source": [
    "import re\n",
    "\n",
    "def sum_one_col(filename):\n",
    "    total = 0\n",
    "    # write your code here    \n",
    "    nums = []\n",
    "    with open(filename, 'r') as f:\n",
    "        for s in re.findall(r\"\\d+\\.?\\d*\", f.read()):\n",
    "            nums.append(float(s))\n",
    "           \n",
    "# 提取整数和小数\n",
    "#         for s in re.findall(r\"\\d+\\.?\\d*\", f.read()):\n",
    "#             nums.append(float(s))\n",
    "# 提取小数\n",
    "#         for s in re.findall('\\d+\\.\\d+',f.read()):\n",
    "#             nums.append(float(s))\n",
    "# 提取整数\n",
    "#         for s in re.findall(r'\\d+', f.read()):\n",
    "#             nums.append(float(s))\n",
    "            \n",
    "    return sum(nums)\n",
    "\n",
    "sum_one_col('f1.txt')"
   ]
  },
  {
   "cell_type": "code",
   "execution_count": 48,
   "metadata": {},
   "outputs": [
    {
     "name": "stdout",
     "output_type": "stream",
     "text": [
      "test passed\n"
     ]
    }
   ],
   "source": [
    "#hint ?open ?float\n",
    "import re\n",
    "\n",
    "def sum_one_col(filename):\n",
    "    total = 0\n",
    "    # write your code here\n",
    "    nums = []\n",
    "    with open(filename, 'r') as f:\n",
    "        for s in re.findall(r\"\\d+\\.?\\d*\", f.read()):\n",
    "            nums.append(float(s))\n",
    "    \n",
    "    return sum(nums)\n",
    "\n",
    "assert sum_one_col('f1.txt') == 10485.14\n",
    "print('test passed')"
   ]
  },
  {
   "cell_type": "markdown",
   "metadata": {},
   "source": [
    "**Q5b)** Print sum of all numbers (assume only positive integer numbers) from a file containing arbitrary string, the sum of numbers in file below is ```2298```\n",
    "\n",
    "```\n",
    "Hello123 World 35\n",
    "341 2\n",
    "Good 13day\n",
    "How are 1784 you\n",
    "```"
   ]
  },
  {
   "cell_type": "code",
   "execution_count": 52,
   "metadata": {},
   "outputs": [
    {
     "name": "stdout",
     "output_type": "stream",
     "text": [
      "test passed\n",
      "test passed\n"
     ]
    }
   ],
   "source": [
    "import re\n",
    "#hint ?re.findall\n",
    "def sum_postive_numbers(filename):\n",
    "    total = 0\n",
    "    # write your code here\n",
    "    nums = []\n",
    "    with open(filename, 'r') as f:\n",
    "        for s in re.findall(r'\\d+', f.read()):\n",
    "            nums.append(int(s))\n",
    "    total = sum(nums)\n",
    "    return total\n",
    "\n",
    "assert sum(int(n) for n in re.findall(r'\\d+', open('f2.txt', encoding='ascii').read())) == 2298\n",
    "print('test passed')\n",
    "\n",
    "assert sum_postive_numbers('f2.txt') == 2298\n",
    "print('test passed')\n",
    "\n"
   ]
  },
  {
   "cell_type": "markdown",
   "metadata": {},
   "source": [
    "**Q5c)** Sort file contents in alphabetic order based on each line's extension\n",
    "\n",
    "* extension here is defined as the string after the last `.` in the line\n",
    "* if line doesn't have a `.`, those lines should come before lines with `.`\n",
    "* sorting should be case-insensitive\n",
    "* use rest of string as tie-breaker if there are more than one line with same extension\n",
    "* assume input file is ASCII encoded and small enough to fit in memory\n",
    "\n",
    "*bonus*: instead of printing results to stdout, change the input file itself with sorted result\n",
    "\n",
    "For instance, before sorting:\n",
    "\n",
    "```\n",
    "power.Log\n",
    "foo.123.txt\n",
    "list\n",
    "report_12.log\n",
    "baz.TXT\n",
    "hello.RB\n",
    "loop.do.rb\n",
    "Fav_books\n",
    "```\n",
    "\n",
    "After sorting:\n",
    "\n",
    "```\n",
    "Fav_books\n",
    "list\n",
    "power.Log\n",
    "report_12.log\n",
    "hello.RB\n",
    "loop.do.rb\n",
    "baz.TXT\n",
    "foo.123.txt\n",
    "```"
   ]
  },
  {
   "cell_type": "code",
   "execution_count": 87,
   "metadata": {},
   "outputs": [
    {
     "name": "stdout",
     "output_type": "stream",
     "text": [
      "['list\\n', 'Fav_books\\n', 'power.Log\\n', 'report_12.log\\n', 'hello.RB\\n', 'loop.do.rb\\n', 'foo.123.txt\\n', 'baz.TXT\\n']\n"
     ]
    }
   ],
   "source": [
    "def sort_by_ext(ip):\n",
    "    pass\n",
    "    # write your code here\n",
    "    mylist = []\n",
    "    result = []\n",
    "    f =open(ip, 'r')\n",
    "    for line in f.readlines():\n",
    "        if '.' in line:\n",
    "            result.append(line)\n",
    "        else:\n",
    "            mylist.append(line)\n",
    "    result.sort(key=lambda x : x.split('.')[-1][0].lower())\n",
    "    mylist.extend(result)\n",
    "    return mylist\n",
    "\n",
    "a = sort_by_ext('f3.txt')\n",
    "print(a)"
   ]
  },
  {
   "cell_type": "code",
   "execution_count": 79,
   "metadata": {
    "scrolled": true
   },
   "outputs": [
    {
     "data": {
      "text/plain": [
       "97"
      ]
     },
     "execution_count": 79,
     "metadata": {},
     "output_type": "execute_result"
    }
   ],
   "source": [
    "# ASCII 转换\n",
    "ord('a')"
   ]
  },
  {
   "cell_type": "code",
   "execution_count": 85,
   "metadata": {},
   "outputs": [
    {
     "data": {
      "text/plain": [
       "106"
      ]
     },
     "execution_count": 85,
     "metadata": {},
     "output_type": "execute_result"
    }
   ],
   "source": [
    "string = 'jenny.ppp.jjj'\n",
    "ord(string.split('.')[-1][0])"
   ]
  },
  {
   "cell_type": "code",
   "execution_count": 73,
   "metadata": {},
   "outputs": [
    {
     "data": {
      "text/plain": [
       "'d'"
      ]
     },
     "execution_count": 73,
     "metadata": {},
     "output_type": "execute_result"
    }
   ],
   "source": [
    "# ASCII 转换\n",
    "chr(100)"
   ]
  },
  {
   "cell_type": "code",
   "execution_count": 89,
   "metadata": {},
   "outputs": [
    {
     "ename": "AssertionError",
     "evalue": "",
     "output_type": "error",
     "traceback": [
      "\u001b[1;31m---------------------------------------------------------------------------\u001b[0m",
      "\u001b[1;31mAssertionError\u001b[0m                            Traceback (most recent call last)",
      "\u001b[1;32m<ipython-input-89-5f1f4ee9d6b9>\u001b[0m in \u001b[0;36m<module>\u001b[1;34m()\u001b[0m\n\u001b[0;32m     22\u001b[0m           'baz.TXT\\n', 'foo.123.txt\\n']\n\u001b[0;32m     23\u001b[0m \u001b[1;33m\u001b[0m\u001b[0m\n\u001b[1;32m---> 24\u001b[1;33m \u001b[1;32massert\u001b[0m \u001b[0msort_by_ext\u001b[0m\u001b[1;33m(\u001b[0m\u001b[1;34m'f3.txt'\u001b[0m\u001b[1;33m)\u001b[0m \u001b[1;33m==\u001b[0m \u001b[0mexp_op\u001b[0m\u001b[1;33m\u001b[0m\u001b[0m\n\u001b[0m\u001b[0;32m     25\u001b[0m \u001b[1;33m\u001b[0m\u001b[0m\n\u001b[0;32m     26\u001b[0m \u001b[0mprint\u001b[0m\u001b[1;33m(\u001b[0m\u001b[1;34m'test passed'\u001b[0m\u001b[1;33m)\u001b[0m\u001b[1;33m\u001b[0m\u001b[0m\n",
      "\u001b[1;31mAssertionError\u001b[0m: "
     ]
    }
   ],
   "source": [
    "#hint ?readlines ?str.split\n",
    "def sort_by_ext(ip):\n",
    "    pass\n",
    "    # write your code here\n",
    "    mylist = []\n",
    "    result = []\n",
    "    f =open(ip, 'r')\n",
    "    for line in f.readlines():\n",
    "        if '.' in line:\n",
    "            result.append(line)\n",
    "        else:\n",
    "            mylist.append(line)\n",
    "    result.sort(key=lambda x : x.split('.')[-1][0].lower())\n",
    "    mylist.extend(result)\n",
    "    return mylist\n",
    "    \n",
    "exp_op = ['Fav_books\\n', 'list\\n', 'power.Log\\n',\n",
    "          'report_12.log\\n', 'hello.RB\\n', 'loop.do.rb\\n',\n",
    "          'baz.TXT\\n', 'foo.123.txt\\n']\n",
    "\n",
    "assert sort_by_ext('f3.txt') == exp_op\n",
    "\n",
    "print('test passed')"
   ]
  },
  {
   "cell_type": "markdown",
   "metadata": {},
   "source": [
    "## <a name=\"text-processing\"></a>6) Text processing\n",
    "\n",
    "**Q6a)** Check if two words are same or differ by only one character (irrespective of case), input strings should have same length\n",
    "\n",
    "See also [Levenshtein distance](https://en.wikipedia.org/wiki/Levenshtein_distance)\n",
    "\n",
    "```python\n",
    ">>> is_one_char_diff('bar', 'bar')\n",
    "True\n",
    ">>> is_one_char_diff('bar', 'Baz')\n",
    "True\n",
    ">>> is_one_char_diff('Food', 'fold')\n",
    "True\n",
    ">>> is_one_char_diff('A', 'b')\n",
    "True\n",
    "\n",
    ">>> is_one_char_diff('a', '')\n",
    "False\n",
    ">>> is_one_char_diff('Bar', 'Bark')\n",
    "False\n",
    ">>> is_one_char_diff('Bar', 'art')\n",
    "False\n",
    ">>> is_one_char_diff('Food', 'fled')\n",
    "False\n",
    ">>> is_one_char_diff('ab', '')\n",
    "False\n",
    "```"
   ]
  },
  {
   "cell_type": "code",
   "execution_count": 93,
   "metadata": {},
   "outputs": [
    {
     "name": "stdout",
     "output_type": "stream",
     "text": [
      "all tests passed\n"
     ]
    }
   ],
   "source": [
    "def is_one_char_diff(word1, word2):\n",
    "    # write your code here\n",
    "    yes = []\n",
    "    no = []\n",
    "    word1 = word1.lower()\n",
    "    word2 = word2.lower()\n",
    "    if len(word1) != len(word2):\n",
    "        return False\n",
    "    \n",
    "    for i in range(len(word1)):\n",
    "        if word1[i] == word2[i]:\n",
    "            yes.append(1)\n",
    "        else:\n",
    "            no.append(1)\n",
    "    if len(no) > 1:\n",
    "        return False\n",
    "    else:\n",
    "        return True\n",
    "    \n",
    "    \n",
    "\n",
    "assert is_one_char_diff('bar', 'car')\n",
    "assert is_one_char_diff('bar', 'Bat')\n",
    "assert is_one_char_diff('bar', 'bar')\n",
    "assert is_one_char_diff('bar', 'baZ')\n",
    "assert is_one_char_diff('A', 'b')\n",
    "\n",
    "assert not is_one_char_diff('a', '')\n",
    "assert not is_one_char_diff('bar', 'bark')\n",
    "assert not is_one_char_diff('bar', 'Art')\n",
    "assert not is_one_char_diff('bar', 'bot')\n",
    "assert not is_one_char_diff('ab', '')\n",
    "\n",
    "assert is_one_char_diff('Food', 'good')\n",
    "assert is_one_char_diff('food', 'fold')\n",
    "assert not is_one_char_diff('food', 'Foody')\n",
    "assert not is_one_char_diff('food', 'fled')\n",
    "\n",
    "print('all tests passed')\n"
   ]
  },
  {
   "cell_type": "markdown",
   "metadata": {},
   "source": [
    "**Q6b)** Check if a word is in ascending/descending alphabetic order or not (irrespective of case)\n",
    "\n",
    "Can you think of a way to do it only using built-in functions and string methods?\n",
    "\n",
    "```python\n",
    ">>> is_alpha_order('bot')\n",
    "True\n",
    ">>> is_alpha_order('arT')\n",
    "True\n",
    ">>> is_alpha_order('are')\n",
    "False\n",
    ">>> is_alpha_order('boat')\n",
    "False\n",
    "\n",
    ">>> is_alpha_order('toe')\n",
    "True\n",
    ">>> is_alpha_order('Flee')\n",
    "False\n",
    ">>> is_alpha_order('reed')\n",
    "True\n",
    "```\n",
    "\n",
    "*bonus*: Check if all words in a sentence (assume only whitespace separated input) are in ascending/descending alphabetic order (irrespective of case)\n",
    "\n",
    "**hint** use a built-in function and generator expression\n",
    "\n",
    "```bash\n",
    ">>> is_alpha_order_sentence('Toe got bit')\n",
    "True\n",
    ">>> is_alpha_order_sentence('All is well')\n",
    "False\n",
    "```"
   ]
  },
  {
   "cell_type": "code",
   "execution_count": 120,
   "metadata": {
    "scrolled": true
   },
   "outputs": [
    {
     "ename": "TypeError",
     "evalue": "'list' object is not callable",
     "output_type": "error",
     "traceback": [
      "\u001b[1;31m---------------------------------------------------------------------------\u001b[0m",
      "\u001b[1;31mTypeError\u001b[0m                                 Traceback (most recent call last)",
      "\u001b[1;32m<ipython-input-120-c94adf15f24f>\u001b[0m in \u001b[0;36m<module>\u001b[1;34m()\u001b[0m\n\u001b[0;32m      1\u001b[0m \u001b[0mw\u001b[0m \u001b[1;33m=\u001b[0m \u001b[1;34m\"www.baidu.com\"\u001b[0m\u001b[1;33m\u001b[0m\u001b[0m\n\u001b[0;32m      2\u001b[0m \u001b[0mw\u001b[0m\u001b[1;33m\u001b[0m\u001b[0m\n\u001b[1;32m----> 3\u001b[1;33m \u001b[0mlist\u001b[0m\u001b[1;33m(\u001b[0m\u001b[0mw\u001b[0m\u001b[1;33m)\u001b[0m\u001b[1;33m\u001b[0m\u001b[0m\n\u001b[0m",
      "\u001b[1;31mTypeError\u001b[0m: 'list' object is not callable"
     ]
    }
   ],
   "source": [
    "w = \"www.baidu.com\"\n",
    "list(w)\n"
   ]
  },
  {
   "cell_type": "code",
   "execution_count": 121,
   "metadata": {},
   "outputs": [
    {
     "data": {
      "text/plain": [
       "'..abcdimouwww'"
      ]
     },
     "execution_count": 121,
     "metadata": {},
     "output_type": "execute_result"
    }
   ],
   "source": [
    "list1 = []\n",
    "for i in range(len(w)):\n",
    "    list1.append(w[i])\n",
    "list1.sort()\n",
    "long1 = ''.join(list1)\n",
    "long1\n"
   ]
  },
  {
   "cell_type": "code",
   "execution_count": 122,
   "metadata": {},
   "outputs": [
    {
     "data": {
      "text/plain": [
       "'wwwuomidcba..'"
      ]
     },
     "execution_count": 122,
     "metadata": {},
     "output_type": "execute_result"
    }
   ],
   "source": [
    "list1.sort(reverse = True)\n",
    "long2 = ''.join(list1)\n",
    "long2"
   ]
  },
  {
   "cell_type": "code",
   "execution_count": 125,
   "metadata": {},
   "outputs": [
    {
     "name": "stdout",
     "output_type": "stream",
     "text": [
      "pass one\n",
      "all tests passed\n"
     ]
    }
   ],
   "source": [
    "def is_alpha_order(word):\n",
    "    pass\n",
    "    # write your code here\n",
    "    word = word.lower()\n",
    "    new = []\n",
    "    for i in range(len(word)):\n",
    "        new.append(word[i])\n",
    "    new.sort()\n",
    "    longone = ''.join(new)\n",
    "    \n",
    "    new.sort(reverse = True)\n",
    "    longtwo = ''.join(new)\n",
    "    \n",
    "    if longone == word:\n",
    "        return True\n",
    "    elif longtwo == word:\n",
    "        return True\n",
    "    else:\n",
    "        return False\n",
    "\n",
    "assert is_alpha_order('bot')\n",
    "assert is_alpha_order('art')\n",
    "assert is_alpha_order('toe')\n",
    "assert is_alpha_order('AborT')\n",
    "\n",
    "assert not is_alpha_order('are')\n",
    "assert not is_alpha_order('boat')\n",
    "assert not is_alpha_order('Flee')\n",
    "print('pass one')\n",
    "\n",
    "# sentence\n",
    "def is_alpha_order_sentence(sentence):\n",
    "    return all(is_alpha_order(word) for word in sentence.split())\n",
    "\n",
    "assert is_alpha_order_sentence('Toe got bit')\n",
    "assert not is_alpha_order_sentence('All is well')\n",
    "\n",
    "print('all tests passed')\n"
   ]
  },
  {
   "cell_type": "markdown",
   "metadata": {},
   "source": [
    "**Q6c)** Find the maximum nested depth of curly braces\n",
    "\n",
    "Unbalanced or wrongly ordered braces should return `-1`\n",
    "\n",
    "Iterating over input string is one way to solve this, another is to use regular expressions\n",
    "\n",
    "```python\n",
    ">>> max_nested_braces('a*b')\n",
    "0\n",
    ">>> max_nested_braces('{a+2}*{b+c}')\n",
    "1\n",
    ">>> max_nested_braces('{{a+2}*{{b+{c*d}}+e*d}}')\n",
    "4\n",
    ">>> max_nested_braces('a*b+{}')\n",
    "1\n",
    ">>> max_nested_braces('}a+b{')\n",
    "-1\n",
    ">>> max_nested_braces('a*b{')\n",
    "-1\n",
    "```\n",
    "\n",
    "*bonus*: empty braces, i.e `{}` should return `-1`\n",
    "\n",
    "```python\n",
    ">>> max_nested_braces('a*b+{}')\n",
    "-1\n",
    ">>> max_nested_braces('a*{b+{}+c*{e*3.14}}')\n",
    "-1\n",
    "```"
   ]
  },
  {
   "cell_type": "code",
   "execution_count": 16,
   "metadata": {},
   "outputs": [
    {
     "name": "stdout",
     "output_type": "stream",
     "text": [
      "all tests passed\n"
     ]
    }
   ],
   "source": [
    "def max_nested_braces(expr):\n",
    "    pass\n",
    "    # write your code here\n",
    "    \n",
    "\n",
    "assert max_nested_braces('a*b') == 0\n",
    "assert max_nested_braces('a*b{') == -1\n",
    "assert max_nested_braces('a*{b+c}') == 1\n",
    "assert max_nested_braces('{a+2}*{b+c}') == 1\n",
    "assert max_nested_braces('a*{b+c*{e*3.14}}') == 2\n",
    "assert max_nested_braces('a*{b+c*{e*3.14}}}') == -1\n",
    "assert max_nested_braces('a*{b+c}}') == -1\n",
    "assert max_nested_braces('a*b+{}') == 1\n",
    "assert max_nested_braces('}a+b{') == -1\n",
    "assert max_nested_braces('{{a+2}*{b+c}+e}') == 2\n",
    "assert max_nested_braces('{{a+2}*{b+{c*d}}+e}') == 3\n",
    "assert max_nested_braces('{{a+2}*{{b+{c*d}}+e*d}}') == 4\n",
    "assert max_nested_braces('{{a+2}*{{b}+{c*d}}+e*d}}') == -1\n",
    "\n",
    "print('all tests passed')\n",
    "\n",
    "\n",
    "#### alternate using regular expressions\n",
    "\n",
    "#import re\n",
    "#\n",
    "#def max_nested_braces(expr):\n",
    "#    count = 0\n",
    "#    while True:\n",
    "#        expr_sub = re.sub(r'\\{[^{}]*\\}', '', expr)\n",
    "#        if expr_sub == expr:\n",
    "#            break\n",
    "#        count += 1\n",
    "#        expr = expr_sub\n",
    "#\n",
    "#    if re.search(r'[{}]', expr):\n",
    "#        return -1\n",
    "#    return count\n",
    "\n",
    "# for bonus, use + instead of *\n",
    "#assert max_nested_braces('a*b+{}') == -1\n",
    "#assert max_nested_braces('a*{b+{}+c*{e*3.14}}') == -1\n"
   ]
  }
 ],
 "metadata": {
  "kernelspec": {
   "display_name": "Python 3",
   "language": "python",
   "name": "python3"
  },
  "language_info": {
   "codemirror_mode": {
    "name": "ipython",
    "version": 3
   },
   "file_extension": ".py",
   "mimetype": "text/x-python",
   "name": "python",
   "nbconvert_exporter": "python",
   "pygments_lexer": "ipython3",
   "version": "3.6.7"
  }
 },
 "nbformat": 4,
 "nbformat_minor": 2
}

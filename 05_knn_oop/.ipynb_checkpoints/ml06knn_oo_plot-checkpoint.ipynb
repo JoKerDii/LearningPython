{
 "cells": [
  {
   "cell_type": "markdown",
   "metadata": {
    "toc": true
   },
   "source": [
    "<h1>Table of Contents<span class=\"tocSkip\"></span></h1>\n",
    "<div class=\"toc\"><ul class=\"toc-item\"><li><span><a href=\"#Classification\" data-toc-modified-id=\"Classification-1\"><span class=\"toc-item-num\">1&nbsp;&nbsp;</span>Classification</a></span><ul class=\"toc-item\"><li><span><a href=\"#Test different K\" data-toc-modified-id=\"Test different K-1.1\"><span class=\"toc-item-num\">1.1&nbsp;&nbsp;</span>Test different K</a></span></li><li><span><a href=\"#Setting different random-states allows cross validation\" data-toc-modified-id=\"Setting different random-states allows cross validation-1.2\"><span class=\"toc-item-num\">1.2&nbsp;&nbsp;</span>Setting different random-states allows cross validation</a></span></li><li><span><a href=\"#Find optimized K by cross validation\" data-toc-modified-id=\"Find optimized K by cross validation-1.3\"><span class=\"toc-item-num\">1.3&nbsp;&nbsp;</span>Find optimized K by cross validation</a></span></li><li><span><a href=\"#Effect of normalisation\" data-toc-modified-id=\"Effect of normalisation-1.4\"><span class=\"toc-item-num\">1.4&nbsp;&nbsp;</span>Effect of normalisation</a></span></li><li><span><a href=\"#Plotting\" data-toc-modified-id=\"Plotting-1.5\"><span class=\"toc-item-num\">1.5&nbsp;&nbsp;</span>Plotting</a></span></li><li><span><a href=\"#Use-plt.figure-for more functions of plotting\" data-toc-modified-id=\"Use-plt.figure-for more functions of plotting-1.6\"><span class=\"toc-item-num\">1.6&nbsp;&nbsp;</span>Use <code>plt.figure</code> for more functions of plotting</a></span></li><li><span><a href=\"#Add mean line\" data-toc-modified-id=\"Add mean line-1.7\"><span class=\"toc-item-num\">1.7&nbsp;&nbsp;</span>Add mean line</a></span></li><li><span><a href=\"#Plot two subplots-change the size of them\" data-toc-modified-id=\"Plot two subplots-change the size of them-1.8\"><span class=\"toc-item-num\">1.8&nbsp;&nbsp;</span>Plot two subplots-change the size of them</a></span></li></ul></li><li><span><a href=\"#Some common functions of numpy\" data-toc-modified-id=\"Some common functions of numpy-2\"><span class=\"toc-item-num\">2&nbsp;&nbsp;</span>Some common functions of <code>numpy</code></a></span><ul class=\"toc-item\"><li><span><a href=\"#hstack,-vstack,-stack\" data-toc-modified-id=\"hstack,-vstack,-stack-2.1\"><span class=\"toc-item-num\">2.1&nbsp;&nbsp;</span><code>hstack</code>, <code>vstack</code>, <code>stack</code></a></span></li><li><span><a href=\"#LabelEncoder,-bincount,-argmax\" data-toc-modified-id=\"LabelEncoder,-bincount,-argmax-2.2\"><span class=\"toc-item-num\">2.2&nbsp;&nbsp;</span><code>LabelEncoder</code>, <code>bincount</code>, <code>argmax</code></a></span></li></ul></li><li><span><a href=\"#Reconstruct KNN\" data-toc-modified-id=\"Reconstruct KNN-3\"><span class=\"toc-item-num\">3&nbsp;&nbsp;</span>Reconstruct KNN</a></span><ul class=\"toc-item\"><li><span><a href=\"#Description\" data-toc-modified-id=\"Description-3.1\"><span class=\"toc-item-num\">3.1&nbsp;&nbsp;</span>Description</a></span></li><li><span><a href=\"#KNN class\" data-toc-modified-id=\"KNN class-3.2\"><span class=\"toc-item-num\">3.2&nbsp;&nbsp;</span>KNN class</a></span></li><li><span><a href=\"#Test KNN class\" data-toc-modified-id=\"Test KNN class-3.3\"><span class=\"toc-item-num\">3.3&nbsp;&nbsp;</span>Test KNN class</a></span></li></ul></li><li><span><a href=\"#Visualize your classifier\" data-toc-modified-id=\"Visualize your classifier-4\"><span class=\"toc-item-num\">4&nbsp;&nbsp;</span>Visualize your classifier</a></span><ul class=\"toc-item\"><li><span><a href=\"#sklearn-KNN-classifier\" data-toc-modified-id=\"sklearn-KNN-classifier-4.1\"><span class=\"toc-item-num\">4.1&nbsp;&nbsp;</span><code>sklearn</code>  KNN-classifier</a></span></li><li><span><a href=\"#K-fold-Cross-Validation\" data-toc-modified-id=\"K-fold-Cross-Validation-4.2\"><span class=\"toc-item-num\">4.2&nbsp;&nbsp;</span>K-fold Cross Validation</a></span></li><li><span><a href=\"#Multiple-Runs-of-K-fold\" data-toc-modified-id=\"Multiple-Runs-of-K-fold-4.3\"><span class=\"toc-item-num\">4.3&nbsp;&nbsp;</span>Multiple Runs of K-fold</a></span></li></ul></li></ul></div>"
   ]
  },
  {
   "cell_type": "markdown",
   "metadata": {},
   "source": [
    "# Classification"
   ]
  },
  {
   "cell_type": "markdown",
   "metadata": {},
   "source": [
    "1. Load iris dataset using pandas\n",
    "\n",
    "1. Split dataset into training data and testing data using train_test_split\n",
    "\n",
    "1. Using knn algorithm, creat a list of predictions, including predicted values of every sample in the training data\n",
    "\n",
    "1. Calculate accuracy of prediction"
   ]
  },
  {
   "cell_type": "code",
   "execution_count": 2,
   "metadata": {},
   "outputs": [],
   "source": [
    "import numpy as np"
   ]
  },
  {
   "cell_type": "code",
   "execution_count": 5,
   "metadata": {},
   "outputs": [
    {
     "data": {
      "text/plain": [
       "array([0, 0, 2, 1, 0, 2], dtype=int64)"
      ]
     },
     "execution_count": 5,
     "metadata": {},
     "output_type": "execute_result"
    }
   ],
   "source": [
    "def most_frequent(ar):\n",
    "    u, indices = np.unique(ar, return_inverse=True)\n",
    "    return u[np.argmax(np.bincount(indices))]\n",
    "\n",
    "ar = ['a', 'a', 'c', 'b', 'a', 'c']\n",
    "unique_ar, inverse_index = np.unique(ar, return_inverse=True)\n",
    "unique_ar # Out: array(['a', 'b', 'c'], dtype='<U1')\n",
    "inverse_index # Out: array([0, 0, 2, 1, 0, 2], dtype=int64)"
   ]
  },
  {
   "cell_type": "code",
   "execution_count": 6,
   "metadata": {},
   "outputs": [
    {
     "data": {
      "text/plain": [
       "array([0, 0, 2, 1, 0, 2], dtype=int64)"
      ]
     },
     "execution_count": 6,
     "metadata": {},
     "output_type": "execute_result"
    }
   ],
   "source": [
    "inverse_index # The index after 'unique' for every element in the original ar list"
   ]
  },
  {
   "cell_type": "code",
   "execution_count": 101,
   "metadata": {},
   "outputs": [
    {
     "data": {
      "text/plain": [
       "array(['a', 'b', 'c'], dtype='<U1')"
      ]
     },
     "execution_count": 101,
     "metadata": {},
     "output_type": "execute_result"
    }
   ],
   "source": [
    "unique_ar # The unique elements in the original ar list"
   ]
  },
  {
   "cell_type": "code",
   "execution_count": 102,
   "metadata": {},
   "outputs": [
    {
     "data": {
      "text/plain": [
       "array([3, 1, 2], dtype=int64)"
      ]
     },
     "execution_count": 102,
     "metadata": {},
     "output_type": "execute_result"
    }
   ],
   "source": [
    "np.bincount([0, 0, 2, 1, 0, 2])# The counting number of every elements in the \"unique\" list\n",
    "                               # Sort the list then count every unique"
   ]
  },
  {
   "cell_type": "code",
   "execution_count": 103,
   "metadata": {},
   "outputs": [
    {
     "data": {
      "text/plain": [
       "array([1, 2, 0], dtype=int64)"
      ]
     },
     "execution_count": 103,
     "metadata": {},
     "output_type": "execute_result"
    }
   ],
   "source": [
    "np.argsort([3, 1, 2]) # Sort the list from the smallest number to the largest number, then we get [1,2,3] \n",
    "                      # where there original indeces are [1,2,0] then it is the output"
   ]
  },
  {
   "cell_type": "code",
   "execution_count": 104,
   "metadata": {},
   "outputs": [
    {
     "data": {
      "text/plain": [
       "'a'"
      ]
     },
     "execution_count": 104,
     "metadata": {},
     "output_type": "execute_result"
    }
   ],
   "source": [
    "unique_ar[\n",
    "        np.argmax(\n",
    "            np.bincount(inverse_index)\n",
    "            )\n",
    "         ]\n",
    "# The purpose of this algorithm is to find the most frequent element and return it"
   ]
  },
  {
   "cell_type": "code",
   "execution_count": 105,
   "metadata": {},
   "outputs": [
    {
     "data": {
      "text/plain": [
       "array([False,  True,  True,  True])"
      ]
     },
     "execution_count": 105,
     "metadata": {},
     "output_type": "execute_result"
    }
   ],
   "source": [
    "pred = ['b', 'a', 'b', 'c']\n",
    "truth = ['a', 'a', 'b', 'c']\n",
    "\n",
    "# boolean masking supports only ndarray\n",
    "pred = np.array(pred)\n",
    "truth = np.array(truth)\n",
    "mask = pred == truth\n",
    "mask"
   ]
  },
  {
   "cell_type": "code",
   "execution_count": 106,
   "metadata": {},
   "outputs": [
    {
     "data": {
      "text/plain": [
       "array([0, 1, 1, 1])"
      ]
     },
     "execution_count": 106,
     "metadata": {},
     "output_type": "execute_result"
    }
   ],
   "source": [
    "# astype supports only ndarray\n",
    "mask.astype(int)"
   ]
  },
  {
   "cell_type": "code",
   "execution_count": 107,
   "metadata": {},
   "outputs": [],
   "source": [
    "import numpy as np\n",
    "\n",
    "def l2norm(u):\n",
    "    return np.sqrt(np.sum(u ** 2 ) )\n",
    "\n",
    "\n",
    "def euclidean_dist(u, v):\n",
    "    return l2norm(u - v)\n",
    "\n",
    "def most_frequent(ar):\n",
    "    unique_elements, indexed_ar = np.unique(\n",
    "        ar, return_inverse=True)\n",
    "    \n",
    "    return unique_elements[\n",
    "        np.argmax(np.bincount(indexed_ar))\n",
    "    ]\n",
    "\n",
    "def accuracy(y_true, y_pred):\n",
    "    return np.sum(y_true == y_pred).astype(int) / len(y_true)\n",
    "\n",
    "from scipy.spatial.distance import euclidean\n",
    "\n",
    "\n",
    "from scipy.stats import mode\n",
    "\n",
    "def knn_predict(X_train, X_test, y_train, k=3):\n",
    "    '''\n",
    "    task:\n",
    "        1. iterate X_test \n",
    "        \n",
    "        2. for each unknown data point x in X_test, \n",
    "        find x's distance to all points in X_train\n",
    "        \n",
    "        3. sort the labels (y_train)  based on \n",
    "        x's distance to all points in X_train\n",
    "        \n",
    "        4. find k most frequent labels among the labels in 3.\n",
    "        \n",
    "        5. which is the label for prediction\n",
    "        \n",
    "        6. aggregate each x's prediction into a list so that\n",
    "        we can compare this list and y_test for accuray\n",
    "    '''\n",
    "    predictions = []\n",
    "    # 1. iterate X_test \n",
    "    for x in X_test:\n",
    "        # 2. for each unknown data point x in X_test, \n",
    "        # find x's distance to all points in X_train\n",
    "        neighbours = []\n",
    "        for index, observed in enumerate(X_train):\n",
    "            distance = euclidean_dist(x, observed)\n",
    "            label = y_train[index]\n",
    "            neighbours.append((distance, label))\n",
    "        # 3. sort the labels (y_train)  based on \n",
    "        # x's distance to all points in X_train\n",
    "        # in ascending order\n",
    "\n",
    "        # use mapping function as defined by lambda expression\n",
    "        # to sort the 2d array neighbours\n",
    "        # then use [::-1] to reverse the order \n",
    "        # (ascending -> descending)\n",
    "        neighbours_sorted = sorted(\n",
    "            neighbours, \n",
    "            key=lambda x: x[0]\n",
    "        )\n",
    "\n",
    "\n",
    "        # 4. find k most frequent labels among the labels in 3.\n",
    "        k_nearest_neighbours = neighbours_sorted[:k]\n",
    "\n",
    "        # 5. which is the label for prediction\n",
    "        pred = most_frequent(np.array(k_nearest_neighbours)[:,1])\n",
    "\n",
    "        # 6. aggregate each x's prediction into a list so that\n",
    "        # we can compare this list and y_test for accuray\n",
    "        predictions.append(pred)\n",
    "        \n",
    "    return np.array(predictions)\n"
   ]
  },
  {
   "cell_type": "code",
   "execution_count": 108,
   "metadata": {},
   "outputs": [
    {
     "data": {
      "text/plain": [
       "1.0"
      ]
     },
     "execution_count": 108,
     "metadata": {},
     "output_type": "execute_result"
    }
   ],
   "source": [
    "from sklearn.model_selection import train_test_split\n",
    "# from sklearn.cross_validation import train_test_split\n",
    "import pandas as pd\n",
    "iris = pd.read_excel('iris.xlsx')\n",
    "\n",
    "X = iris[['Sepal length','Sepal width',\n",
    "          'Petal length','Petal width']].as_matrix()\n",
    "y = iris['Species'].as_matrix()\n",
    "\n",
    "X.shape, y.shape\n",
    "\n",
    "X_train, X_test, y_train, y_test = train_test_split(\n",
    "    X, y, test_size=0.33, random_state=42)\n",
    "\n",
    "y_pred = knn_predict(X_train, X_test, y_train, k=3)\n",
    "accuracy(y_test, y_pred)"
   ]
  },
  {
   "cell_type": "markdown",
   "metadata": {},
   "source": [
    "**note** on ```map```\n",
    "\n",
    "```map``` needs 1) a mapping function 2) an iterable\n",
    "\n",
    "```map(func, *iterables) --> map object``` applies mapping function to each elements in the iterable and returns an ```map object``` \n",
    "\n",
    "we can use ```list()``` to cast ```map object``` into a ```list```\n",
    "\n"
   ]
  },
  {
   "cell_type": "code",
   "execution_count": 109,
   "metadata": {},
   "outputs": [
    {
     "data": {
      "text/plain": [
       "[1, 4, 9]"
      ]
     },
     "execution_count": 109,
     "metadata": {},
     "output_type": "execute_result"
    }
   ],
   "source": [
    "def mapfnc(x):\n",
    "    return x**2\n",
    "\n",
    "list(map(mapfnc, [1,2,3]))"
   ]
  },
  {
   "cell_type": "code",
   "execution_count": 110,
   "metadata": {},
   "outputs": [],
   "source": [
    "neighbours = [(0.5099019513592785, 'setosa'),\n",
    " (0.5099019513592788, 'setosa'),\n",
    " (0.5196152422706636, 'setosa'),\n",
    " (0.5656854249492379, 'setosa'),\n",
    " (0.6000000000000001, 'setosa')]"
   ]
  },
  {
   "cell_type": "code",
   "execution_count": 111,
   "metadata": {},
   "outputs": [
    {
     "data": {
      "text/plain": [
       "[0.5099019513592785,\n",
       " 0.5099019513592788,\n",
       " 0.5196152422706636,\n",
       " 0.5656854249492379,\n",
       " 0.6000000000000001]"
      ]
     },
     "execution_count": 111,
     "metadata": {},
     "output_type": "execute_result"
    }
   ],
   "source": [
    "def getFirstIndex(ar):\n",
    "    return ar[0]\n",
    "\n",
    "list(map(getFirstIndex, neighbours))"
   ]
  },
  {
   "cell_type": "code",
   "execution_count": 112,
   "metadata": {},
   "outputs": [
    {
     "data": {
      "text/plain": [
       "[(0.5099019513592785, 'setosa'),\n",
       " (0.5099019513592788, 'setosa'),\n",
       " (0.5196152422706636, 'setosa'),\n",
       " (0.5656854249492379, 'setosa'),\n",
       " (0.6000000000000001, 'setosa')]"
      ]
     },
     "execution_count": 112,
     "metadata": {},
     "output_type": "execute_result"
    }
   ],
   "source": [
    "sorted(neighbours, key=getFirstIndex)"
   ]
  },
  {
   "cell_type": "code",
   "execution_count": 113,
   "metadata": {},
   "outputs": [
    {
     "data": {
      "text/plain": [
       "[(0.6000000000000001, 'setosa'),\n",
       " (0.5656854249492379, 'setosa'),\n",
       " (0.5196152422706636, 'setosa'),\n",
       " (0.5099019513592788, 'setosa'),\n",
       " (0.5099019513592785, 'setosa')]"
      ]
     },
     "execution_count": 113,
     "metadata": {},
     "output_type": "execute_result"
    }
   ],
   "source": [
    "sorted(neighbours, key=lambda x: x[0])[::-1][:5]"
   ]
  },
  {
   "cell_type": "code",
   "execution_count": 114,
   "metadata": {},
   "outputs": [
    {
     "name": "stdout",
     "output_type": "stream",
     "text": [
      "accuracy=0.96\n"
     ]
    }
   ],
   "source": [
    "import numpy as np\n",
    "import pandas as pd\n",
    "from sklearn.model_selection import train_test_split\n",
    "from sklearn.neighbors import KNeighborsClassifier\n",
    "# from sklearn.cross_validation import train_test_split\n",
    "iris = pd.read_excel('iris.xlsx')\n",
    "\n",
    "X = iris[['Sepal length', 'Sepal width',\n",
    "          'Petal length', 'Petal width']].as_matrix()\n",
    "y = iris['Species'].as_matrix()\n",
    "\n",
    "# split dataset, 67% for training data, 33% for testing data\n",
    "# X_train, X_test = training sample, testing sample\n",
    "# y_train, y_test = training target, testing target\n",
    "\n",
    "# from sklearn.preprocessing import LabelEncoder\n",
    "# le = LabelEncoder().fit(y)\n",
    "# y = le.transform(y)\n",
    "\n",
    "X_train, X_test, y_train, y_test = train_test_split(\n",
    "        X, y, test_size=0.33, random_state=420)\n",
    "\n",
    "# To predict the target from testing sample: y_pred\n",
    "y_pred = knn_predict(X_train, X_test, y_train, k=3)\n",
    "# y_pred = KNeighborsClassifier(3).fit(X_train, y_train).predict(X_test)\n",
    "print('accuracy=%s' % accuracy(y_test, y_pred))"
   ]
  },
  {
   "cell_type": "markdown",
   "metadata": {},
   "source": [
    "## Test different Ks"
   ]
  },
  {
   "cell_type": "code",
   "execution_count": 115,
   "metadata": {},
   "outputs": [
    {
     "name": "stdout",
     "output_type": "stream",
     "text": [
      "k=1, accuracy=0.96\n",
      "k=2, accuracy=0.96\n",
      "k=3, accuracy=0.96\n",
      "k=4, accuracy=0.96\n",
      "k=5, accuracy=0.96\n",
      "k=6, accuracy=0.98\n",
      "k=7, accuracy=0.96\n",
      "k=8, accuracy=0.96\n",
      "k=9, accuracy=0.96\n",
      "k=10, accuracy=0.96\n"
     ]
    }
   ],
   "source": [
    "for k in range(1, 11):\n",
    "    y_pred = knn_predict(X_train, X_test, y_train, k=k)\n",
    "    print('k=%s,' % k, 'accuracy=%s' % accuracy(y_test, y_pred))"
   ]
  },
  {
   "cell_type": "markdown",
   "metadata": {},
   "source": [
    "## Cross validation by setting different random states"
   ]
  },
  {
   "cell_type": "code",
   "execution_count": 116,
   "metadata": {},
   "outputs": [
    {
     "name": "stdout",
     "output_type": "stream",
     "text": [
      "random states = [0, 1, 2, 3, 4, 5, 6, 7]\n",
      "Accuracy:\n",
      "[0.98, 0.98, 0.98, 0.96, 0.98, 0.98, 0.96, 0.92]\n"
     ]
    }
   ],
   "source": [
    "# 8 random_states, 8 tests\n",
    "randsts = list(range(8))\n",
    "print('random states =', randsts)\n",
    "k=3\n",
    "\n",
    "acc = []\n",
    "\n",
    "for random_state in randsts:\n",
    "\n",
    "    X_train, X_test, y_train, y_test = train_test_split(\n",
    "    X, y, test_size=0.33, random_state=random_state)\n",
    "\n",
    "    y_pred = knn_predict(X_train, X_test, y_train, k=k)\n",
    "\n",
    "    acc.append(accuracy(y_test, y_pred))\n",
    "    \n",
    "print('Accuracy:')\n",
    "print(acc)"
   ]
  },
  {
   "cell_type": "markdown",
   "metadata": {},
   "source": [
    "## Find the proper K by cross validation"
   ]
  },
  {
   "cell_type": "code",
   "execution_count": 117,
   "metadata": {},
   "outputs": [
    {
     "name": "stdout",
     "output_type": "stream",
     "text": [
      "random states = [22282 29296 54326 47964 33441 59640 19230 33058  6775 63034 18109 59838\n",
      " 22024 59711 63373 64725 33239 43015 15876 27258 31680 61121 59645 54683\n",
      " 29039 44502  2655 52072 15080 26806 13539 33789]\n",
      "k=1, mean accuracy=0.949375\n",
      "k=2, mean accuracy=0.944375\n",
      "k=3, mean accuracy=0.95875\n",
      "k=4, mean accuracy=0.9581249999999999\n",
      "k=5, mean accuracy=0.9637499999999999\n",
      "k=6, mean accuracy=0.9612499999999999\n",
      "k=7, mean accuracy=0.9618749999999999\n",
      "k=8, mean accuracy=0.96\n",
      "k=9, mean accuracy=0.963125\n",
      "k=10, mean accuracy=0.9575\n"
     ]
    }
   ],
   "source": [
    "import numpy as np\n",
    "from sklearn.model_selection import train_test_split\n",
    "\n",
    "all_scores = []\n",
    "\n",
    "# k is from 1 to 10\n",
    "ks = np.arange(1, 11)\n",
    "\n",
    "# 8 random_states, 32 tests\n",
    "randsts = (np.random.rand(32)*65535).astype(int)\n",
    "print('random states =', randsts)\n",
    "\n",
    "for k in ks:\n",
    "    \n",
    "    acc = []\n",
    "    \n",
    "    for random_state in randsts:\n",
    "        \n",
    "        X_train, X_test, y_train, y_test = train_test_split(\n",
    "        X, y, test_size=0.33, random_state=random_state)\n",
    "        \n",
    "        y_pred = knn_predict(X_train, X_test, y_train, k=k)\n",
    "        \n",
    "        acc.append(accuracy(y_test, y_pred))\n",
    "    \n",
    "    all_scores.append(acc)\n",
    "    \n",
    "    print('k=%s,' % k, 'mean accuracy=%s' % np.mean(acc))"
   ]
  },
  {
   "cell_type": "markdown",
   "metadata": {},
   "source": [
    "## Effect of normalisation"
   ]
  },
  {
   "cell_type": "code",
   "execution_count": 118,
   "metadata": {},
   "outputs": [
    {
     "name": "stdout",
     "output_type": "stream",
     "text": [
      "random states = [ 3383 42711 37110 53483 24083 24558 64588 21268 32985 53748 36312 50971\n",
      "  3264 63085 31217 55889 12157 36686 52582 26995 34398 36669 22324 49646\n",
      "  7407  9851 14481   506 49074  1473  7330 53837]\n",
      "k=1, mean accuracy=0.7137499999999999\n",
      "k=2, mean accuracy=0.738125\n",
      "k=3, mean accuracy=0.744375\n",
      "k=4, mean accuracy=0.7474999999999999\n",
      "k=5, mean accuracy=0.750625\n",
      "k=6, mean accuracy=0.7650000000000001\n",
      "k=7, mean accuracy=0.7593749999999999\n",
      "k=8, mean accuracy=0.74875\n",
      "k=9, mean accuracy=0.7625\n",
      "k=10, mean accuracy=0.75\n"
     ]
    }
   ],
   "source": [
    "import numpy as np\n",
    "from sklearn.model_selection import train_test_split\n",
    "\n",
    "def normalise(x):\n",
    "    return (x - x.min(axis=0)) / (x.max(axis=0) - x.min(axis=0))\n",
    "\n",
    "# k is from 1 to 10\n",
    "ks = np.arange(1, 11)\n",
    "\n",
    "# 8 random_states, 8 tests\n",
    "randsts = (np.random.rand(32)*65535).astype(int)\n",
    "print('random states =', randsts)\n",
    "\n",
    "for k in ks:\n",
    "    \n",
    "    acc = []\n",
    "    \n",
    "    for random_state in randsts:\n",
    "        \n",
    "        X_train, X_test, y_train, y_test = train_test_split(\n",
    "        normalise(X[:, [0,1]]), y, test_size=0.33, random_state=random_state)\n",
    "        \n",
    "        y_pred = knn_predict(X_train, X_test, y_train, k=k)\n",
    "        \n",
    "        acc.append(accuracy(y_test, y_pred))\n",
    "    \n",
    "    print('k=%s,' % k, 'mean accuracy=%s' % np.mean(acc))"
   ]
  },
  {
   "cell_type": "markdown",
   "metadata": {},
   "source": [
    "## Graph"
   ]
  },
  {
   "cell_type": "code",
   "execution_count": 119,
   "metadata": {},
   "outputs": [
    {
     "data": {
      "text/plain": [
       "(10, 32)"
      ]
     },
     "execution_count": 119,
     "metadata": {},
     "output_type": "execute_result"
    }
   ],
   "source": [
    "alls = np.array(all_scores)\n",
    "alls.shape"
   ]
  },
  {
   "cell_type": "code",
   "execution_count": 120,
   "metadata": {},
   "outputs": [
    {
     "data": {
      "image/png": "[encoded data removed]",
      "text/plain": [
       "<matplotlib.figure.Figure at 0x262d54f3400>"
      ]
     },
     "metadata": {},
     "output_type": "display_data"
    }
   ],
   "source": [
    "from matplotlib import pyplot as plt\n",
    "# OR import matplotlib.pyplot as plt\n",
    "\n",
    "plt.suptitle('KNN')\n",
    "plt.boxplot(alls.T)\n",
    "plt.show()"
   ]
  },
  {
   "cell_type": "markdown",
   "metadata": {},
   "source": [
    "## Using `plt.figure` to draw graphs with more functions"
   ]
  },
  {
   "cell_type": "code",
   "execution_count": 121,
   "metadata": {},
   "outputs": [],
   "source": [
    "fig.add_subplot?"
   ]
  },
  {
   "cell_type": "code",
   "execution_count": 122,
   "metadata": {},
   "outputs": [
    {
     "data": {
      "image/png": "[encoded data removed]",
      "text/plain": [
       "<matplotlib.figure.Figure at 0x262d55d74e0>"
      ]
     },
     "metadata": {},
     "output_type": "display_data"
    }
   ],
   "source": [
    "from matplotlib import pyplot as plt\n",
    "fig = plt.figure()\n",
    "\n",
    "# supply a title for the figure\n",
    "fig.suptitle('KNN')\n",
    "\n",
    "# add 1x1 subplots\n",
    "# return the 1st subplot as ax\n",
    "ax = fig.add_subplot(1, 1, 1)\n",
    "\n",
    "# title of 1st subplot\n",
    "ax.set_title('Num. Cross Validation = %s' % len(randsts))\n",
    "\n",
    "ax.set_xlabel('K')\n",
    "\n",
    "ax.set_ylabel('Accuracy')\n",
    "\n",
    "ax.boxplot(alls.T)\n",
    "\n",
    "plt.show()"
   ]
  },
  {
   "cell_type": "markdown",
   "metadata": {},
   "source": [
    "## Add mean line"
   ]
  },
  {
   "cell_type": "code",
   "execution_count": 10,
   "metadata": {},
   "outputs": [
    {
     "data": {
      "text/plain": [
       "(10, 32)"
      ]
     },
     "execution_count": 10,
     "metadata": {},
     "output_type": "execute_result"
    }
   ],
   "source": [
    "alls.shape"
   ]
  },
  {
   "cell_type": "code",
   "execution_count": 11,
   "metadata": {},
   "outputs": [
    {
     "data": {
      "text/plain": [
       "array([0.956875, 0.956875, 0.963125, 0.960625, 0.965625, 0.964375,\n",
       "       0.964375, 0.965625, 0.966875, 0.965   ])"
      ]
     },
     "execution_count": 11,
     "metadata": {},
     "output_type": "execute_result"
    }
   ],
   "source": [
    "alls.mean(axis=1)"
   ]
  },
  {
   "cell_type": "code",
   "execution_count": 12,
   "metadata": {},
   "outputs": [
    {
     "data": {
      "image/png": "[encoded data removed]",
      "text/plain": [
       "<matplotlib.figure.Figure at 0x2564435c6a0>"
      ]
     },
     "metadata": {},
     "output_type": "display_data"
    }
   ],
   "source": [
    "from matplotlib import pyplot as plt\n",
    "fig = plt.figure()\n",
    "\n",
    "fig.suptitle('KNN')\n",
    "\n",
    "ax = fig.add_subplot(1, 1, 1)\n",
    "\n",
    "ax.set_title('Num. Cross Validation = %s' % len(randsts))\n",
    "\n",
    "ax.set_xlabel('K')\n",
    "\n",
    "ax.set_ylabel('Accuracy')\n",
    "\n",
    "ax.boxplot(alls.T, showmeans=True)\n",
    "\n",
    "ax.plot(ks, alls.mean(axis=1), label='mean accuracy')\n",
    "\n",
    "plt.legend()\n",
    "\n",
    "plt.show()"
   ]
  },
  {
   "cell_type": "markdown",
   "metadata": {},
   "source": [
    "## Make two subplots and change the size"
   ]
  },
  {
   "cell_type": "code",
   "execution_count": 124,
   "metadata": {
    "scrolled": true
   },
   "outputs": [
    {
     "data": {
      "image/png": "[encoded data removed]",
      "text/plain": [
       "<matplotlib.figure.Figure at 0x262d5751a90>"
      ]
     },
     "metadata": {},
     "output_type": "display_data"
    }
   ],
   "source": [
    "from matplotlib import pyplot as plt\n",
    "# figsize is in inch\n",
    "# dpi = dots(pixel) per inch\n",
    "# resolution of plot = figsize * dpi\n",
    "fig = plt.figure(figsize=(3,5), dpi=120)\n",
    "\n",
    "# 2 rows, 1 column, 1st subplot\n",
    "ax = fig.add_subplot(2, 1, 1)\n",
    "ax.set_title('Num. Cross Validation = %s' % len(randsts))\n",
    "ax.set_xlabel('K')\n",
    "ax.set_ylabel('accuracy')\n",
    "ax.boxplot(alls.T, showmeans=True)\n",
    "\n",
    "# 2 rows, 1 column, 2nd subplot\n",
    "ax = fig.add_subplot(2, 1, 2)\n",
    "ax.set_title('Num. Cross Validation = %s' % len(randsts))\n",
    "\n",
    "# similar to plt.xlabel\n",
    "ax.set_xlabel('K')\n",
    "\n",
    "# similar to plt.ylabel\n",
    "ax.set_ylabel('mean accuracy')\n",
    "\n",
    "# similar to plt.plot\n",
    "ax.plot(ks, alls.mean(axis=1))\n",
    "\n",
    "# similar to plt.xticks\n",
    "ax.set_xticks(np.arange(1,11))\n",
    "\n",
    "# compress the margins between subplots\n",
    "fig.tight_layout()\n",
    "\n",
    "# save current fuigure as fig.png\n",
    "fig.savefig('fig.png')\n",
    "\n",
    "plt.show()"
   ]
  },
  {
   "cell_type": "markdown",
   "metadata": {},
   "source": [
    "# ```numpy``` functions\n"
   ]
  },
  {
   "cell_type": "markdown",
   "metadata": {},
   "source": [
    "## `hstack`, `vstack`, `stack`"
   ]
  },
  {
   "cell_type": "code",
   "execution_count": 22,
   "metadata": {},
   "outputs": [
    {
     "data": {
      "text/plain": [
       "array([[ 0,  1,  2,  3],\n",
       "       [ 4,  5,  6,  7],\n",
       "       [ 8,  9, 10, 11]])"
      ]
     },
     "execution_count": 22,
     "metadata": {},
     "output_type": "execute_result"
    }
   ],
   "source": [
    "M = np.arange(12).reshape(3,4)\n",
    "M"
   ]
  },
  {
   "cell_type": "markdown",
   "metadata": {},
   "source": [
    "slicing and get 2d ndarray"
   ]
  },
  {
   "cell_type": "code",
   "execution_count": 43,
   "metadata": {},
   "outputs": [
    {
     "name": "stdout",
     "output_type": "stream",
     "text": [
      "[[0 1]\n",
      " [4 5]\n",
      " [8 9]] \n",
      "\n",
      " [[ 2  3]\n",
      " [ 6  7]\n",
      " [10 11]]\n"
     ]
    }
   ],
   "source": [
    "M0 = M[:, [0, 1] ]\n",
    "M1 = M[:, [2, 3] ]\n",
    "print(M0, '\\n\\n', M1)"
   ]
  },
  {
   "cell_type": "markdown",
   "metadata": {},
   "source": [
    "```numpy.hstack``` stacks arrays in sequence horizontally (column wise)."
   ]
  },
  {
   "cell_type": "code",
   "execution_count": 28,
   "metadata": {},
   "outputs": [
    {
     "data": {
      "text/plain": [
       "array([[ 0,  1,  2,  3],\n",
       "       [ 4,  5,  6,  7],\n",
       "       [ 8,  9, 10, 11]])"
      ]
     },
     "execution_count": 28,
     "metadata": {},
     "output_type": "execute_result"
    }
   ],
   "source": [
    "np.hstack([M0, M1])"
   ]
  },
  {
   "cell_type": "markdown",
   "metadata": {},
   "source": [
    "```numpy.vstack``` stacks arrays in sequence vertically (row wise)."
   ]
  },
  {
   "cell_type": "code",
   "execution_count": 29,
   "metadata": {},
   "outputs": [
    {
     "data": {
      "text/plain": [
       "array([[ 0,  1],\n",
       "       [ 4,  5],\n",
       "       [ 8,  9],\n",
       "       [ 2,  3],\n",
       "       [ 6,  7],\n",
       "       [10, 11]])"
      ]
     },
     "execution_count": 29,
     "metadata": {},
     "output_type": "execute_result"
    }
   ],
   "source": [
    "np.vstack([M0, M1])"
   ]
  },
  {
   "cell_type": "markdown",
   "metadata": {},
   "source": [
    "```numpy.stack``` joins a sequence of arrays along a new axis."
   ]
  },
  {
   "cell_type": "code",
   "execution_count": 48,
   "metadata": {},
   "outputs": [
    {
     "name": "stdout",
     "output_type": "stream",
     "text": [
      "[[[ 0  1]\n",
      "  [ 4  5]\n",
      "  [ 8  9]]\n",
      "\n",
      " [[ 2  3]\n",
      "  [ 6  7]\n",
      "  [10 11]]] \n",
      "shape=(2, 3, 2)\n"
     ]
    }
   ],
   "source": [
    "new3darray = np.stack([M0, M1], axis=0)\n",
    "print(new3darray, '\\nshape={}'.format(new3darray.shape))"
   ]
  },
  {
   "cell_type": "markdown",
   "metadata": {},
   "source": [
    "if the slices are 1D:"
   ]
  },
  {
   "cell_type": "code",
   "execution_count": 50,
   "metadata": {},
   "outputs": [
    {
     "name": "stdout",
     "output_type": "stream",
     "text": [
      "[0 4 8] \n",
      "\n",
      " [1 5 9] \n",
      "\n",
      " [ 2  6 10] \n",
      "\n",
      " [ 3  7 11]\n"
     ]
    }
   ],
   "source": [
    "v0 = M[:, 0 ]\n",
    "v1 = M[:, 1 ]\n",
    "v2 = M[:, 2 ]\n",
    "v3 = M[:, 3 ]\n",
    "print(v0, '\\n\\n', \n",
    "      v1, '\\n\\n', \n",
    "      v2, '\\n\\n', \n",
    "      v3)"
   ]
  },
  {
   "cell_type": "code",
   "execution_count": 51,
   "metadata": {},
   "outputs": [
    {
     "name": "stdout",
     "output_type": "stream",
     "text": [
      "[[ 0  4  8]\n",
      " [ 1  5  9]\n",
      " [ 2  6 10]\n",
      " [ 3  7 11]] \n",
      "shape=(4, 3)\n"
     ]
    }
   ],
   "source": [
    "new2darray = np.stack([v0, v1, v2, v3], axis=0) # If axis = 0, the arrays are stacked by rows\n",
    "print(new2darray, '\\nshape={}'.format(new2darray.shape))"
   ]
  },
  {
   "cell_type": "code",
   "execution_count": 52,
   "metadata": {},
   "outputs": [
    {
     "name": "stdout",
     "output_type": "stream",
     "text": [
      "[[ 0  1  2  3]\n",
      " [ 4  5  6  7]\n",
      " [ 8  9 10 11]] \n",
      "shape=(3, 4)\n"
     ]
    }
   ],
   "source": [
    "new2darray = np.stack([v0, v1, v2, v3], axis=1) # If axis = 1, the arrays are stacked by columns \n",
    "print(new2darray, '\\nshape={}'.format(new2darray.shape))"
   ]
  },
  {
   "cell_type": "markdown",
   "metadata": {},
   "source": [
    "## `LabelEncoder`, `bincount`, `argmax`"
   ]
  },
  {
   "cell_type": "markdown",
   "metadata": {},
   "source": [
    "For classificationm, target variables are categorical https://en.wikipedia.org/wiki/Categorical_variable, so they are also called labels or classes. If they are transformed to integers, they are good for programming.\n",
    "\n",
    "Using ```fit``` function in class ```LabelEncoder``` to encode labels, the relationship of labels is stored in ```le``` object in ```LabelEncoder```"
   ]
  },
  {
   "cell_type": "code",
   "execution_count": 59,
   "metadata": {},
   "outputs": [
    {
     "data": {
      "text/plain": [
       "array([1, 2, 3], dtype=int64)"
      ]
     },
     "execution_count": 59,
     "metadata": {},
     "output_type": "execute_result"
    }
   ],
   "source": [
    "from sklearn.preprocessing import LabelEncoder\n",
    "le = LabelEncoder().fit(['a', 'b', 'c', 'c', 'b', 'a', '0'])\n",
    "le.transform(['a', 'b', 'c'])"
   ]
  },
  {
   "cell_type": "code",
   "execution_count": 66,
   "metadata": {},
   "outputs": [
    {
     "data": {
      "text/plain": [
       "array(['0', 'a', 'b', 'c'], dtype='<U1')"
      ]
     },
     "execution_count": 66,
     "metadata": {},
     "output_type": "execute_result"
    }
   ],
   "source": [
    "le.classes_"
   ]
  },
  {
   "cell_type": "markdown",
   "metadata": {},
   "source": [
    "So ```le``` can be used to inversely transform integers to labels"
   ]
  },
  {
   "cell_type": "code",
   "execution_count": 58,
   "metadata": {},
   "outputs": [
    {
     "name": "stderr",
     "output_type": "stream",
     "text": [
      "C:\\Users\\iota\\Anaconda3\\lib\\site-packages\\sklearn\\preprocessing\\label.py:151: DeprecationWarning: The truth value of an empty array is ambiguous. Returning False, but in future this will result in an error. Use `array.size > 0` to check that an array is not empty.\n",
      "  if diff:\n"
     ]
    },
    {
     "data": {
      "text/plain": [
       "array(['b', 'a', '0'], dtype='<U1')"
      ]
     },
     "execution_count": 58,
     "metadata": {},
     "output_type": "execute_result"
    }
   ],
   "source": [
    "le.inverse_transform([2, 1, 0])"
   ]
  },
  {
   "cell_type": "markdown",
   "metadata": {},
   "source": [
    "Then we can use ```np.bincount```, ```np.argmax``` or other functions to manipulate the labels."
   ]
  },
  {
   "cell_type": "code",
   "execution_count": 35,
   "metadata": {},
   "outputs": [
    {
     "data": {
      "text/plain": [
       "array([0, 4, 3, 0, 0, 1], dtype=int64)"
      ]
     },
     "execution_count": 35,
     "metadata": {},
     "output_type": "execute_result"
    }
   ],
   "source": [
    "np.bincount([1,2,2,2,1,1,1,5])\n",
    "\"\"\"\n",
    "In bincounting array:\n",
    "The value is 0 in index 0, meaning there is no ‘0’ in original array\n",
    "The value is 4 in index 1, meaning there is 4 '1' in original array\n",
    "The value is 3 in index 2, meaning there is 3 '2' in original array\n",
    "The value is 0 in index 3, meaning there is 0 '3' in original array\n",
    "The value is 0 in index 4, meaning there is 0 '4' in original array\n",
    "The value is 1 in index 5, meaning there is 1 '5' in original array\n",
    "\n",
    "The maximum value is 5 in original array, thus there are 6 elements in bincounting array\n",
    "\n",
    "\"\"\" \n"
   ]
  },
  {
   "cell_type": "code",
   "execution_count": 36,
   "metadata": {
    "scrolled": true
   },
   "outputs": [
    {
     "data": {
      "text/plain": [
       "1"
      ]
     },
     "execution_count": 36,
     "metadata": {},
     "output_type": "execute_result"
    }
   ],
   "source": [
    "np.argmax([0, 4, 3, 0, 0, 1])\n",
    "# find the maxmum value and return its index"
   ]
  },
  {
   "cell_type": "markdown",
   "metadata": {},
   "source": [
    "# Reconstruct KNN"
   ]
  },
  {
   "cell_type": "markdown",
   "metadata": {},
   "source": [
    "What we are talking about above is **functional programming**, but in reality, **object-oriented programming(oop)** is more common in implementing algorithm.\n"
   ]
  },
  {
   "cell_type": "markdown",
   "metadata": {},
   "source": [
    "## Description"
   ]
  },
  {
   "cell_type": "markdown",
   "metadata": {},
   "source": [
    "Reconstruct knn algorithm by oop, construct a class named \"KNN\"\n",
    "\n",
    "`KNN`has 3 attributes: `k, X_train, y_train`\n",
    "\n",
    "`KNN`has 2 functions: `fit 和 predict`\n",
    "\n",
    "`fit` has 2 arguments: `X_train` and `y_train`, for undating `KNN`'s attributes `X_train, y_train`. return `KNN` object itself.\n",
    "\n",
    "`predict` has an argument: `X_test`, after predicting `X_test` 's label(category) and returning all predicting values.\n"
   ]
  },
  {
   "cell_type": "markdown",
   "metadata": {},
   "source": [
    "## KNN class"
   ]
  },
  {
   "cell_type": "code",
   "execution_count": 4,
   "metadata": {},
   "outputs": [
    {
     "data": {
      "text/plain": [
       "array([False,  True])"
      ]
     },
     "execution_count": 4,
     "metadata": {},
     "output_type": "execute_result"
    }
   ],
   "source": [
    "import numpy as np\n",
    "\n",
    "np.isclose([3.0, 10], [2.9, 10.00001], atol=1e-5 )"
   ]
  },
  {
   "cell_type": "code",
   "execution_count": 7,
   "metadata": {},
   "outputs": [],
   "source": [
    "import numpy as np\n",
    "\n",
    "def l2norm(u):\n",
    "    return np.sqrt(np.sum(u ** 2))\n",
    "\n",
    "\n",
    "def euclidean_dist(u, v):\n",
    "    return l2norm(u - v)\n",
    "\n",
    "\n",
    "def most_frequent(ar):\n",
    "    u, indices = np.unique(ar, return_inverse=True)\n",
    "    return u[np.argmax(np.bincount(indices))]\n",
    "\n",
    "class KNN:\n",
    "    def __init__(self, k=3):\n",
    "        self.k = k\n",
    "        self.X_train = None\n",
    "        self.y_train = None\n",
    "\n",
    "    def fit(self, X_train, y_train):\n",
    "        self.X_train = X_train\n",
    "        self.y_train = y_train\n",
    "        return self\n",
    "\n",
    "    def predict(self, X_test):\n",
    "        k = self.k\n",
    "        predictions = []\n",
    "            # 1. iterate X_test \n",
    "        for x in X_test:\n",
    "            # 2. for each unknown data point x in X_test, \n",
    "            # find x's distance to all points in X_train\n",
    "            neighbours = []\n",
    "            for index, observed in enumerate(self.X_train):\n",
    "                distance = euclidean_dist(x, observed)\n",
    "                label = self.y_train[index]\n",
    "                neighbours.append((distance, label))\n",
    "            # 3. sort the labels (y_train)  based on \n",
    "            # x's distance to all points in X_train\n",
    "            # in ascending order\n",
    "            # use mapping function as defined by lambda expression\n",
    "            # to sort the 2d array neighbours\n",
    "            # then use [::-1] to reverse the order \n",
    "            # (ascending -> descending)\n",
    "            neighbours_sorted = sorted(\n",
    "                neighbours, \n",
    "                key=lambda x: x[0]\n",
    "            )\n",
    "\n",
    "\n",
    "            # 4. find k most frequent labels among the labels in 3.\n",
    "            k_nearest_neighbours = neighbours_sorted[:k]\n",
    "\n",
    "            # 5. which is the label for prediction\n",
    "            pred = most_frequent(np.array(k_nearest_neighbours)[:,1])\n",
    "\n",
    "            # 6. aggregate each x's prediction into a list so that\n",
    "            # we can compare this list and y_test for accuray\n",
    "            predictions.append(pred)\n",
    "            \n",
    "        predictions = np.array(predictions)\n",
    "        \n",
    "        return predictions"
   ]
  },
  {
   "cell_type": "markdown",
   "metadata": {},
   "source": [
    "## Test KNN class"
   ]
  },
  {
   "cell_type": "code",
   "execution_count": 9,
   "metadata": {},
   "outputs": [
    {
     "name": "stdout",
     "output_type": "stream",
     "text": [
      "accuracy=1.0\n"
     ]
    },
    {
     "data": {
      "text/plain": [
       "numpy.ndarray"
      ]
     },
     "execution_count": 9,
     "metadata": {},
     "output_type": "execute_result"
    }
   ],
   "source": [
    "import numpy as np\n",
    "import pandas as pd\n",
    "from sklearn.model_selection import train_test_split\n",
    "\n",
    "# from sklearn.cross_validation import train_test_split\n",
    "iris = pd.read_excel('iris.xlsx')\n",
    "\n",
    "X = iris[['Sepal length', 'Sepal width',\n",
    "          'Petal length', 'Petal width']].as_matrix()\n",
    "y = iris['Species'].as_matrix()\n",
    "\n",
    "# Split datasets, 67% for training data, 33% for testing data\n",
    "# X_train, X_test = training data, testing data\n",
    "# y_train, y_test = training target, testing data\n",
    "X_train, X_test, y_train, y_test = train_test_split(\n",
    "    X, y, test_size=0.33, random_state=42)\n",
    "\n",
    "knn = KNN(k=3)\n",
    "\n",
    "knn.fit(X_train, y_train)\n",
    "\n",
    "# Predicting result of training data: y_pred\n",
    "y_pred = knn.predict(X_test)\n",
    "\n",
    "def accuracy(y_true, y_pred):\n",
    "    return np.sum(y_true == y_pred) / len(y_true)\n",
    "\n",
    "print('accuracy=%s' % accuracy(y_test, y_pred))"
   ]
  },
  {
   "cell_type": "markdown",
   "metadata": {},
   "source": [
    "# Visualize your classifier"
   ]
  },
  {
   "cell_type": "code",
   "execution_count": 20,
   "metadata": {},
   "outputs": [
    {
     "data": {
      "text/plain": [
       "1.0"
      ]
     },
     "execution_count": 20,
     "metadata": {},
     "output_type": "execute_result"
    }
   ],
   "source": [
    "np.sin(np.pi/2)"
   ]
  },
  {
   "cell_type": "code",
   "execution_count": 24,
   "metadata": {},
   "outputs": [
    {
     "data": {
      "text/plain": [
       "[<matplotlib.lines.Line2D at 0x262d3c20710>]"
      ]
     },
     "execution_count": 24,
     "metadata": {},
     "output_type": "execute_result"
    },
    {
     "data": {
      "image/png": "[encoded data removed]",
      "text/plain": [
       "<matplotlib.figure.Figure at 0x262d3c20c18>"
      ]
     },
     "metadata": {},
     "output_type": "display_data"
    }
   ],
   "source": [
    "from matplotlib import pyplot as plt\n",
    "\n",
    "def fnc(x):\n",
    "    sinx = np.sin(x) \n",
    "    return sinx**2 + sinx**3 + 2**x\n",
    "\n",
    "v = np.arange(0, 10, 0.01)\n",
    "\n",
    "plt.xlim(-1, 20)\n",
    "plt.ylim(-1000, 1000)\n",
    "\n",
    "plt.plot(v, fnc(v))"
   ]
  },
  {
   "cell_type": "markdown",
   "metadata": {},
   "source": [
    "Read [here](https://stackoverflow.com/questions/36013063/what-is-purpose-of-meshgrid-in-python) for more details:\n",
    "    \n"
   ]
  },
  {
   "cell_type": "code",
   "execution_count": 26,
   "metadata": {},
   "outputs": [],
   "source": [
    "from matplotlib import pyplot as plt\n",
    "\n",
    "def plot_bounds2D(X, y, clf):\n",
    "    # create all pari-wise combinations of\n",
    "    # x0's possible values and x1's possible values\n",
    "    #\n",
    "    # read here for more details:\n",
    "    # https://stackoverflow.com/questions/36013063/what-is-purpose-of-meshgrid-in-python\n",
    "\n",
    "    d0_possible_values = np.arange(X[:, 0].min() - 1, X[:, 0].max() + 1, 0.1)\n",
    "    d1_possible_values = np.arange(X[:, 1].min() - 1, X[:, 1].max() + 1, 0.1)\n",
    "\n",
    "    d0, d1 = np.meshgrid(d0_possible_values, d1_possible_values)\n",
    "\n",
    "    # create data set with d0 and d1 as two columns\n",
    "    dots = np.c_[d0.ravel(), d1.ravel()]\n",
    "\n",
    "    # num. rows = 1, num. cols = 1, plotting 1st subplot\n",
    "    plt.subplot(1, 1, 1)\n",
    "\n",
    "    plt.subplots_adjust(wspace=0.6, hspace=0.4)\n",
    "    dots_predicted = clf.fit(X[:, [0, 1]], y).predict(dots)\n",
    "    \n",
    "    # convert possible string labels to numerical label for plotting\n",
    "    from sklearn.preprocessing import LabelEncoder\n",
    "    le = LabelEncoder().fit(dots_predicted)\n",
    "    coloured_dots = le.transform(dots_predicted)\n",
    "    \n",
    "    # Put the result into a color plot\n",
    "    coloured_dots = coloured_dots.reshape(d0.shape)\n",
    "    \n",
    "    plt.contourf(d0, d1, coloured_dots, cmap=plt.cm.coolwarm, alpha=0.8)\n",
    "    # plt.pcolormesh(d0, d1, coloured_dots, cmap=plt.cm.coolwarm)\n",
    "\n",
    "    # Plot also the training points\n",
    "    plt.xlim(d0.min(), d0.max())\n",
    "    plt.ylim(d1.min(), d1.max())\n",
    "\n",
    "    # plot the line, the points, and the nearest vectors to the plane\n",
    "    plt.xlabel('X[:, 0]')\n",
    "    plt.ylabel('X[:, 1]')\n",
    "\n",
    "    for yy in np.unique(y):\n",
    "        plt.scatter(x=X[:, 0][y == yy], y=X[:, 1][y == yy], label='y_train==' + str(yy))\n",
    "    plt.legend()"
   ]
  },
  {
   "cell_type": "code",
   "execution_count": 27,
   "metadata": {},
   "outputs": [
    {
     "data": {
      "image/png": "[encoded data removed]",
      "text/plain": [
       "<matplotlib.figure.Figure at 0x262d3e34400>"
      ]
     },
     "metadata": {},
     "output_type": "display_data"
    }
   ],
   "source": [
    "from matplotlib import pyplot as plt\n",
    "plot_bounds2D(X[:,[0,1]], y, KNN(k=3))\n",
    "plt.show()"
   ]
  },
  {
   "cell_type": "code",
   "execution_count": 19,
   "metadata": {},
   "outputs": [
    {
     "data": {
      "image/png": "[encoded data removed]",
      "text/plain": [
       "<matplotlib.figure.Figure at 0x25645c8c278>"
      ]
     },
     "metadata": {},
     "output_type": "display_data"
    }
   ],
   "source": [
    "def normalise(x):\n",
    "    return (x - x.min(axis=0)) / (x.max(axis=0) - x.min(axis=0))\n",
    "\n",
    "Xn = normalise(X[:,[0,1]])\n",
    "plot_bounds2D(Xn, y, KNN(k=3))\n",
    "plt.show()"
   ]
  },
  {
   "cell_type": "markdown",
   "metadata": {},
   "source": [
    "## `sklearn`  KNN classifier"
   ]
  },
  {
   "cell_type": "code",
   "execution_count": 28,
   "metadata": {},
   "outputs": [
    {
     "data": {
      "image/png": "[encoded data removed]",
      "text/plain": [
       "<matplotlib.figure.Figure at 0x262d3d17b00>"
      ]
     },
     "metadata": {},
     "output_type": "display_data"
    }
   ],
   "source": [
    "from sklearn.neighbors import KNeighborsClassifier\n",
    "\n",
    "plot_bounds2D(X[:,[0,1]], y, KNeighborsClassifier(3))\n",
    "plt.show()"
   ]
  },
  {
   "cell_type": "code",
   "execution_count": 32,
   "metadata": {},
   "outputs": [
    {
     "data": {
      "text/html": [
       "<div>\n",
       "<style scoped>\n",
       "    .dataframe tbody tr th:only-of-type {\n",
       "        vertical-align: middle;\n",
       "    }\n",
       "\n",
       "    .dataframe tbody tr th {\n",
       "        vertical-align: top;\n",
       "    }\n",
       "\n",
       "    .dataframe thead th {\n",
       "        text-align: right;\n",
       "    }\n",
       "</style>\n",
       "<table border=\"1\" class=\"dataframe\">\n",
       "  <thead>\n",
       "    <tr style=\"text-align: right;\">\n",
       "      <th></th>\n",
       "      <th>0</th>\n",
       "      <th>1</th>\n",
       "    </tr>\n",
       "  </thead>\n",
       "  <tbody>\n",
       "    <tr>\n",
       "      <th>count</th>\n",
       "      <td>149.000000</td>\n",
       "      <td>149.000000</td>\n",
       "    </tr>\n",
       "    <tr>\n",
       "      <th>mean</th>\n",
       "      <td>5.831544</td>\n",
       "      <td>3.057718</td>\n",
       "    </tr>\n",
       "    <tr>\n",
       "      <th>std</th>\n",
       "      <td>0.816062</td>\n",
       "      <td>0.437311</td>\n",
       "    </tr>\n",
       "    <tr>\n",
       "      <th>min</th>\n",
       "      <td>4.300000</td>\n",
       "      <td>2.000000</td>\n",
       "    </tr>\n",
       "    <tr>\n",
       "      <th>25%</th>\n",
       "      <td>5.100000</td>\n",
       "      <td>2.800000</td>\n",
       "    </tr>\n",
       "    <tr>\n",
       "      <th>50%</th>\n",
       "      <td>5.800000</td>\n",
       "      <td>3.000000</td>\n",
       "    </tr>\n",
       "    <tr>\n",
       "      <th>75%</th>\n",
       "      <td>6.400000</td>\n",
       "      <td>3.300000</td>\n",
       "    </tr>\n",
       "    <tr>\n",
       "      <th>max</th>\n",
       "      <td>7.900000</td>\n",
       "      <td>4.400000</td>\n",
       "    </tr>\n",
       "  </tbody>\n",
       "</table>\n",
       "</div>"
      ],
      "text/plain": [
       "                0           1\n",
       "count  149.000000  149.000000\n",
       "mean     5.831544    3.057718\n",
       "std      0.816062    0.437311\n",
       "min      4.300000    2.000000\n",
       "25%      5.100000    2.800000\n",
       "50%      5.800000    3.000000\n",
       "75%      6.400000    3.300000\n",
       "max      7.900000    4.400000"
      ]
     },
     "execution_count": 32,
     "metadata": {},
     "output_type": "execute_result"
    }
   ],
   "source": [
    "x=X[:,[0,1]]\n",
    "import pandas as pd\n",
    "pd.DataFrame(x).describe()"
   ]
  },
  {
   "cell_type": "code",
   "execution_count": 36,
   "metadata": {},
   "outputs": [
    {
     "data": {
      "text/plain": [
       "(array([4.3, 2. ]), array([7.9, 4.4]))"
      ]
     },
     "execution_count": 36,
     "metadata": {},
     "output_type": "execute_result"
    }
   ],
   "source": [
    "mi = x.min(axis=0)\n",
    "ma = x.max(axis=0)\n",
    "mi, ma"
   ]
  },
  {
   "cell_type": "code",
   "execution_count": 39,
   "metadata": {},
   "outputs": [
    {
     "data": {
      "text/html": [
       "<div>\n",
       "<style scoped>\n",
       "    .dataframe tbody tr th:only-of-type {\n",
       "        vertical-align: middle;\n",
       "    }\n",
       "\n",
       "    .dataframe tbody tr th {\n",
       "        vertical-align: top;\n",
       "    }\n",
       "\n",
       "    .dataframe thead th {\n",
       "        text-align: right;\n",
       "    }\n",
       "</style>\n",
       "<table border=\"1\" class=\"dataframe\">\n",
       "  <thead>\n",
       "    <tr style=\"text-align: right;\">\n",
       "      <th></th>\n",
       "      <th>0</th>\n",
       "      <th>1</th>\n",
       "    </tr>\n",
       "  </thead>\n",
       "  <tbody>\n",
       "    <tr>\n",
       "      <th>count</th>\n",
       "      <td>149.000000</td>\n",
       "      <td>149.000000</td>\n",
       "    </tr>\n",
       "    <tr>\n",
       "      <th>mean</th>\n",
       "      <td>0.425429</td>\n",
       "      <td>0.440716</td>\n",
       "    </tr>\n",
       "    <tr>\n",
       "      <th>std</th>\n",
       "      <td>0.226684</td>\n",
       "      <td>0.182213</td>\n",
       "    </tr>\n",
       "    <tr>\n",
       "      <th>min</th>\n",
       "      <td>0.000000</td>\n",
       "      <td>0.000000</td>\n",
       "    </tr>\n",
       "    <tr>\n",
       "      <th>25%</th>\n",
       "      <td>0.222222</td>\n",
       "      <td>0.333333</td>\n",
       "    </tr>\n",
       "    <tr>\n",
       "      <th>50%</th>\n",
       "      <td>0.416667</td>\n",
       "      <td>0.416667</td>\n",
       "    </tr>\n",
       "    <tr>\n",
       "      <th>75%</th>\n",
       "      <td>0.583333</td>\n",
       "      <td>0.541667</td>\n",
       "    </tr>\n",
       "    <tr>\n",
       "      <th>max</th>\n",
       "      <td>1.000000</td>\n",
       "      <td>1.000000</td>\n",
       "    </tr>\n",
       "  </tbody>\n",
       "</table>\n",
       "</div>"
      ],
      "text/plain": [
       "                0           1\n",
       "count  149.000000  149.000000\n",
       "mean     0.425429    0.440716\n",
       "std      0.226684    0.182213\n",
       "min      0.000000    0.000000\n",
       "25%      0.222222    0.333333\n",
       "50%      0.416667    0.416667\n",
       "75%      0.583333    0.541667\n",
       "max      1.000000    1.000000"
      ]
     },
     "execution_count": 39,
     "metadata": {},
     "output_type": "execute_result"
    }
   ],
   "source": [
    "pd.DataFrame((x - mi)/(ma - mi)).describe()"
   ]
  },
  {
   "cell_type": "code",
   "execution_count": 48,
   "metadata": {},
   "outputs": [],
   "source": [
    "accuracy?"
   ]
  },
  {
   "cell_type": "markdown",
   "metadata": {},
   "source": [
    "## K-fold Cross Validation"
   ]
  },
  {
   "cell_type": "code",
   "execution_count": 57,
   "metadata": {},
   "outputs": [
    {
     "data": {
      "text/plain": [
       "[0.7666666666666667, 0.6666666666666666, 0.6, 0.6, 0.5333333333333333]"
      ]
     },
     "execution_count": 57,
     "metadata": {},
     "output_type": "execute_result"
    }
   ],
   "source": [
    "from sklearn.model_selection import train_test_split\n",
    "k_fold = 5\n",
    "test_size = 1/k_fold\n",
    "acc = []\n",
    "for i in np.arange(k_fold):\n",
    "    X_train, X_test, y_train, y_test = train_test_split(\n",
    "        X_bad, y, test_size=test_size, random_state=None)\n",
    "    # train model\n",
    "    knn = KNN(k = 3)\n",
    "    knn.fit(X_train, y_train)\n",
    "\n",
    "    # use model to predict test data\n",
    "    y_pred = knn.predict(X_test)\n",
    "\n",
    "    # aggregate accuracy\n",
    "    acc.append(accuracy(y_test, y_pred))\n",
    "\n",
    "acc"
   ]
  },
  {
   "cell_type": "markdown",
   "metadata": {},
   "source": [
    "## Multiple Runs of K-fold"
   ]
  },
  {
   "cell_type": "code",
   "execution_count": 72,
   "metadata": {},
   "outputs": [
    {
     "data": {
      "image/png": "[encoded data removed]",
      "text/plain": [
       "<matplotlib.figure.Figure at 0x262d40364a8>"
      ]
     },
     "metadata": {},
     "output_type": "display_data"
    }
   ],
   "source": [
    "from sklearn.model_selection import train_test_split\n",
    "from sklearn.neighbors import KNeighborsClassifier\n",
    "import matplotlib.pyplot as plt\n",
    "\n",
    "def my_k_fold(X, y, clf = KNN(k = 3), k_fold = 3, n_runs = 1):\n",
    "    acc = []\n",
    "    test_size = 1/k_fold\n",
    "    for runs in np.arange(n_runs):\n",
    "        for i in np.arange(k_fold):\n",
    "            X_train, X_test, y_train, y_test = train_test_split(\n",
    "                X, y, test_size=test_size, random_state=None)\n",
    "            # train model\n",
    "            knn = clf\n",
    "            knn.fit(X_train, y_train)\n",
    "\n",
    "            # use model to predict test data\n",
    "            y_pred = knn.predict(X_test)\n",
    "\n",
    "            # aggregate accuracy\n",
    "            acc.append(accuracy(y_test, y_pred))\n",
    "\n",
    "    return acc\n",
    "\n",
    "def normalise(x):\n",
    "    return (x - x.min(axis=0)) / (x.max(axis=0) - x.min(axis=0))\n",
    "\n",
    "X_bad = X[:,[0,1]]\n",
    "X_bad[:, 0] = 1e3 * X_bad[:, 0]\n",
    "X_bad[:, 1] = 1e-2 * X_bad[:, 1]\n",
    "\n",
    "acc_bad = my_k_fold(X_bad, y, n_runs=10)\n",
    "acc_normalised = my_k_fold(normalise(X_bad), y, n_runs=10)\n",
    "acc = my_k_fold(normalise(X[:,[0,1]]), y, n_runs=10)\n",
    "\n",
    "plt.plot(acc_bad, label='X_bad')\n",
    "plt.plot(acc_normalised, label='X_normalised')\n",
    "plt.plot(acc, label='X_raw')\n",
    "\n",
    "plt.legend()\n",
    "plt.show()"
   ]
  },
  {
   "cell_type": "code",
   "execution_count": 3,
   "metadata": {
    "scrolled": true
   },
   "outputs": [
    {
     "ename": "AttributeError",
     "evalue": "module 'matplotlib.pyplot' has no attribute 'set_xticks'",
     "output_type": "error",
     "traceback": [
      "\u001b[1;31m---------------------------------------------------------------------------\u001b[0m",
      "\u001b[1;31mAttributeError\u001b[0m                            Traceback (most recent call last)",
      "\u001b[1;32m<ipython-input-3-f044ab2e5a13>\u001b[0m in \u001b[0;36m<module>\u001b[1;34m\u001b[0m\n\u001b[0;32m      1\u001b[0m \u001b[1;32mfrom\u001b[0m \u001b[0mmatplotlib\u001b[0m \u001b[1;32mimport\u001b[0m \u001b[0mpyplot\u001b[0m \u001b[1;32mas\u001b[0m \u001b[0mplt\u001b[0m\u001b[1;33m\u001b[0m\u001b[1;33m\u001b[0m\u001b[0m\n\u001b[1;32m----> 2\u001b[1;33m \u001b[0mplt\u001b[0m\u001b[1;33m.\u001b[0m\u001b[0mset_xticks\u001b[0m\u001b[1;33m\u001b[0m\u001b[1;33m\u001b[0m\u001b[0m\n\u001b[0m",
      "\u001b[1;31mAttributeError\u001b[0m: module 'matplotlib.pyplot' has no attribute 'set_xticks'"
     ]
    }
   ],
   "source": [
    "from matplotlib import pyplot as plt\n",
    "plt.set_xticks\n",
    "# set_xticks and set_xticklabels are axes methods, not functions in the plt module namespace. \n",
    "# This is the meaning of the error message:\n",
    "# 'module' object has no attribute 'set_xticks'."
   ]
  },
  {
   "cell_type": "code",
   "execution_count": 97,
   "metadata": {},
   "outputs": [
    {
     "data": {
      "image/png": "[encoded data removed]",
      "text/plain": [
       "<matplotlib.figure.Figure at 0x262d53e3d30>"
      ]
     },
     "metadata": {},
     "output_type": "display_data"
    }
   ],
   "source": [
    "plt.boxplot([acc, acc_bad, acc_normalised])\n",
    "plt.xlabel('Accuracy of different models')\n",
    "tick_location = [0,1,2,3]\n",
    "tick_labels = ['0', 'raw', 'bad', 'normalised']\n",
    "plt.xticks(tick_location, tick_labels)\n",
    "plt.show()"
   ]
  },
  {
   "cell_type": "code",
   "execution_count": 71,
   "metadata": {},
   "outputs": [
    {
     "data": {
      "image/png": "[encoded data removed]",
      "text/plain": [
       "<matplotlib.figure.Figure at 0x262d3ff6fd0>"
      ]
     },
     "metadata": {},
     "output_type": "display_data"
    }
   ],
   "source": [
    "plot_bounds2D(normalise(X), y, KNeighborsClassifier(3))\n",
    "plt.show()"
   ]
  },
  {
   "cell_type": "code",
   "execution_count": 41,
   "metadata": {},
   "outputs": [
    {
     "data": {
      "image/png": "[encoded data removed]",
      "text/plain": [
       "<matplotlib.figure.Figure at 0x262d3d79e80>"
      ]
     },
     "metadata": {},
     "output_type": "display_data"
    }
   ],
   "source": [
    "plot_bounds2D(X_bad, y, KNeighborsClassifier(3))\n",
    "plt.show()"
   ]
  },
  {
   "cell_type": "code",
   "execution_count": 40,
   "metadata": {},
   "outputs": [
    {
     "data": {
      "image/png": "[encoded data removed]",
      "text/plain": [
       "<matplotlib.figure.Figure at 0x262d3e35860>"
      ]
     },
     "metadata": {},
     "output_type": "display_data"
    }
   ],
   "source": [
    "from sklearn.neighbors import KNeighborsClassifier\n",
    "\n",
    "def normalise(x):\n",
    "    return (x - x.min(axis=0)) / (x.max(axis=0) - x.min(axis=0))\n",
    "\n",
    "Xn = normalise(X[:,[0,1]])\n",
    "plot_bounds2D(Xn, y, KNeighborsClassifier(3))\n",
    "plt.show()"
   ]
  },
  {
   "cell_type": "code",
   "execution_count": null,
   "metadata": {},
   "outputs": [],
   "source": []
  }
 ],
 "metadata": {
  "kernelspec": {
   "display_name": "Python 3",
   "language": "python",
   "name": "python3"
  },
  "language_info": {
   "codemirror_mode": {
    "name": "ipython",
    "version": 3
   },
   "file_extension": ".py",
   "mimetype": "text/x-python",
   "name": "python",
   "nbconvert_exporter": "python",
   "pygments_lexer": "ipython3",
   "version": "3.6.7"
  },
  "toc": {
   "base_numbering": 1,
   "nav_menu": {},
   "number_sections": true,
   "sideBar": true,
   "skip_h1_title": false,
   "title_cell": "Table of Contents",
   "title_sidebar": "Contents",
   "toc_cell": true,
   "toc_position": {},
   "toc_section_display": true,
   "toc_window_display": false
  }
 },
 "nbformat": 4,
 "nbformat_minor": 2
}

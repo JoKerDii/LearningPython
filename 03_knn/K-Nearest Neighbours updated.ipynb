{
 "cells": [
  {
   "cell_type": "markdown",
   "metadata": {},
   "source": [
    "# Euclidean Distance"
   ]
  },
  {
   "cell_type": "markdown",
   "metadata": {},
   "source": [
    "Given a Cartesian coordinate system, the Eculidean distance between two vectors $\\textbf{u}$ and $\\textbf{v}$ is defined as: \n",
    "\n",
    "\n",
    "\\begin{equation}\n",
    "d(\\textbf{u}, \\textbf{v}) = d(\\textbf{v}, \\textbf{u}) = \\sqrt{\\sum_{i=1}^{n} (\\textbf{u}_i - \\textbf{v}_i)^2}\n",
    "\\end{equation}\n",
    "<br>\n",
    "\n",
    "This is also known as $\\ell^2$ distance between $\\textbf{u}$ and $\\textbf{v}$, or the $\\ell^2$-norm of $\\textbf{u} - \\textbf{v}$:<br>\n",
    "\n",
    "\\begin{equation}\n",
    "\\| \\textbf{u} - \\textbf{v} \\|_2\n",
    "\\end{equation} \n",
    "<br>\n",
    "\n",
    "Implement Euclidean distance with Numpy"
   ]
  },
  {
   "cell_type": "code",
   "execution_count": 1,
   "metadata": {},
   "outputs": [],
   "source": [
    "import numpy as np\n",
    "def euclidean_dist(u, v):\n",
    "    return np.sqrt(np.sum((u - v) ** 2))"
   ]
  },
  {
   "cell_type": "code",
   "execution_count": 2,
   "metadata": {},
   "outputs": [
    {
     "data": {
      "text/plain": [
       "(array([0.53623099, 0.25136764, 0.87686426, 0.80163658, 0.51434621,\n",
       "        0.06239112, 0.1343382 , 0.24441089, 0.48537133, 0.21381968]),\n",
       " array([0.51894976, 0.95817214, 0.26285677, 0.89197276, 0.71306693,\n",
       "        0.07383121, 0.55920487, 0.29796802, 0.39937064, 0.29763364]))"
      ]
     },
     "execution_count": 2,
     "metadata": {},
     "output_type": "execute_result"
    }
   ],
   "source": [
    "import numpy as np\n",
    "u = np.random.rand(10)\n",
    "v = np.random.rand(10)\n",
    "u, v"
   ]
  },
  {
   "cell_type": "code",
   "execution_count": 3,
   "metadata": {},
   "outputs": [
    {
     "data": {
      "text/plain": [
       "1.0594615697454102"
      ]
     },
     "execution_count": 3,
     "metadata": {},
     "output_type": "execute_result"
    }
   ],
   "source": [
    "np.sqrt(np.sum((u - v) ** 2))"
   ]
  },
  {
   "cell_type": "markdown",
   "metadata": {},
   "source": [
    "If the code is correct, there would't be `AssertionError` or `TypeError`"
   ]
  },
  {
   "cell_type": "code",
   "execution_count": 4,
   "metadata": {},
   "outputs": [
    {
     "name": "stdout",
     "output_type": "stream",
     "text": [
      "Your implementation is correct.\n"
     ]
    }
   ],
   "source": [
    "import numpy as np\n",
    "from scipy.spatial.distance import euclidean\n",
    "for _ in range(10):\n",
    "    u = np.random.rand(50)\n",
    "    v = np.random.rand(50)\n",
    "    assert np.isclose(euclidean_dist(u, v), np.linalg.norm(u - v))\n",
    "    assert np.isclose(euclidean_dist(u, v), euclidean(u, v))\n",
    "print('Your implementation is correct.')"
   ]
  },
  {
   "cell_type": "markdown",
   "metadata": {},
   "source": [
    "# Machine Learning "
   ]
  },
  {
   "cell_type": "markdown",
   "metadata": {},
   "source": [
    "\"Machine learning is a field of computer science that gives computers the ability to learn without being explicitly programmed.\" "
   ]
  },
  {
   "cell_type": "markdown",
   "metadata": {},
   "source": [
    "## A taste of Machine Learning: K-Nearest Neighbour (Classification)"
   ]
  },
  {
   "cell_type": "code",
   "execution_count": 5,
   "metadata": {},
   "outputs": [
    {
     "data": {
      "text/plain": [
       "(list, 4)"
      ]
     },
     "execution_count": 5,
     "metadata": {},
     "output_type": "execute_result"
    }
   ],
   "source": [
    "import pickle\n",
    "\n",
    "knn_data = pickle.load(open('knndata.pkl', 'rb'))\n",
    "type(knn_data), len(knn_data)"
   ]
  },
  {
   "cell_type": "code",
   "execution_count": 6,
   "metadata": {},
   "outputs": [
    {
     "data": {
      "text/plain": [
       "((20, 2), (20,))"
      ]
     },
     "execution_count": 6,
     "metadata": {},
     "output_type": "execute_result"
    }
   ],
   "source": [
    "data_known, data_unknown, label_known, label_unknown = knn_data\n",
    "data_known.shape, label_known.shape"
   ]
  },
  {
   "cell_type": "code",
   "execution_count": 7,
   "metadata": {},
   "outputs": [
    {
     "data": {
      "text/plain": [
       "array([[-0.91913464, -2.7228335 ],\n",
       "       [ 0.44309015,  4.22363693],\n",
       "       [ 7.03333317, -5.0391912 ],\n",
       "       [ 0.54993866, -2.86115247],\n",
       "       [ 6.7584476 , -6.34496986],\n",
       "       [-0.33999817,  5.30736013],\n",
       "       [-0.64380612, -2.6208809 ],\n",
       "       [ 1.56856295, -3.24302159],\n",
       "       [ 1.20229934,  5.53934353],\n",
       "       [ 1.72748609, -2.92715801],\n",
       "       [ 6.63192522, -4.54913698],\n",
       "       [ 5.88461451, -6.60200187],\n",
       "       [ 8.24536559, -4.93032748],\n",
       "       [ 6.34375399, -4.24235083],\n",
       "       [ 7.56510452, -7.39263012],\n",
       "       [ 0.97660475, -2.70385456],\n",
       "       [ 5.17785648, -4.40766482],\n",
       "       [ 0.31146637, -2.48066592],\n",
       "       [-1.40061123,  5.35833117],\n",
       "       [ 6.4683988 , -6.11797036]])"
      ]
     },
     "execution_count": 7,
     "metadata": {},
     "output_type": "execute_result"
    }
   ],
   "source": [
    "data_known"
   ]
  },
  {
   "cell_type": "code",
   "execution_count": 8,
   "metadata": {},
   "outputs": [
    {
     "data": {
      "text/plain": [
       "array([2, 1, 0, 2, 0, 1, 2, 2, 1, 2, 0, 0, 0, 0, 0, 2, 0, 2, 1, 0])"
      ]
     },
     "execution_count": 8,
     "metadata": {},
     "output_type": "execute_result"
    }
   ],
   "source": [
    "label_known"
   ]
  },
  {
   "cell_type": "code",
   "execution_count": 9,
   "metadata": {},
   "outputs": [
    {
     "data": {
      "text/plain": [
       "array([0, 1, 2])"
      ]
     },
     "execution_count": 9,
     "metadata": {},
     "output_type": "execute_result"
    }
   ],
   "source": [
    "np.unique(label_known)"
   ]
  },
  {
   "cell_type": "code",
   "execution_count": 10,
   "metadata": {},
   "outputs": [
    {
     "data": {
      "text/plain": [
       "((10, 2), (10,))"
      ]
     },
     "execution_count": 10,
     "metadata": {},
     "output_type": "execute_result"
    }
   ],
   "source": [
    "data_unknown.shape, label_unknown.shape"
   ]
  },
  {
   "cell_type": "code",
   "execution_count": 27,
   "metadata": {},
   "outputs": [],
   "source": [
    "?plt.scatter"
   ]
  },
  {
   "cell_type": "code",
   "execution_count": 25,
   "metadata": {},
   "outputs": [
    {
     "data": {
      "image/png": "[encoded data removed]",
      "text/plain": [
       "<matplotlib.figure.Figure at 0x127bbf30b70>"
      ]
     },
     "metadata": {},
     "output_type": "display_data"
    }
   ],
   "source": [
    "import matplotlib.pyplot as plt\n",
    "plt.scatter([1.0, 5.0], [2.0, -2])\n",
    "plt.show()"
   ]
  },
  {
   "cell_type": "code",
   "execution_count": 12,
   "metadata": {},
   "outputs": [
    {
     "data": {
      "image/png": "[encoded data removed]",
      "text/plain": [
       "<matplotlib.figure.Figure at 0x127ba630e48>"
      ]
     },
     "metadata": {},
     "output_type": "display_data"
    }
   ],
   "source": [
    "plt.scatter(data_known[:, 0], data_known[:, 1], c=label_known)\n",
    "plt.show()"
   ]
  },
  {
   "cell_type": "code",
   "execution_count": 13,
   "metadata": {},
   "outputs": [
    {
     "data": {
      "image/png": "[encoded data removed]",
      "text/plain": [
       "<matplotlib.figure.Figure at 0x127ba613e80>"
      ]
     },
     "metadata": {},
     "output_type": "display_data"
    }
   ],
   "source": [
    "plt1 = plt.scatter(*data_known.T, c=label_known, alpha=0.5)\n",
    "plt.show()"
   ]
  },
  {
   "cell_type": "code",
   "execution_count": 14,
   "metadata": {},
   "outputs": [
    {
     "data": {
      "text/plain": [
       "(20, 2)"
      ]
     },
     "execution_count": 14,
     "metadata": {},
     "output_type": "execute_result"
    }
   ],
   "source": [
    "data_known.shape"
   ]
  },
  {
   "cell_type": "code",
   "execution_count": 31,
   "metadata": {},
   "outputs": [
    {
     "data": {
      "image/png": "[encoded data removed]",
      "text/plain": [
       "<matplotlib.figure.Figure at 0x127bc025550>"
      ]
     },
     "metadata": {},
     "output_type": "display_data"
    }
   ],
   "source": [
    "plt.scatter(data_known[:, 0], data_known[:, 1], c=label_known, alpha=0.5)\n",
    "plt2 = plt.scatter(data_unknown[:, 0], data_unknown[:, 1], c='black', marker='^')\n",
    "plt.legend([plt2], ['unknown'])\n",
    "plt.show()"
   ]
  },
  {
   "cell_type": "code",
   "execution_count": 46,
   "metadata": {},
   "outputs": [
    {
     "name": "stdout",
     "output_type": "stream",
     "text": [
      "1 one\n",
      "1 one\n",
      "2 two\n",
      "3 three\n",
      "4 four\n"
     ]
    }
   ],
   "source": [
    "l1 = [4, 2, 3, 1, 1]\n",
    "l2 = ['four', 'two', 'three', 'one', 'one']\n",
    "\n",
    "for l1_i, l2_i in sorted(zip(l1, l2)):\n",
    "    print(l1_i, l2_i)"
   ]
  },
  {
   "cell_type": "code",
   "execution_count": 47,
   "metadata": {},
   "outputs": [
    {
     "data": {
      "text/plain": [
       "array([3, 4, 1, 2, 0], dtype=int64)"
      ]
     },
     "execution_count": 47,
     "metadata": {},
     "output_type": "execute_result"
    }
   ],
   "source": [
    "np.argsort(l1)"
   ]
  },
  {
   "cell_type": "code",
   "execution_count": 49,
   "metadata": {},
   "outputs": [
    {
     "data": {
      "text/plain": [
       "array(['one', 'one', 'two', 'three', 'four'], dtype='<U5')"
      ]
     },
     "execution_count": 49,
     "metadata": {},
     "output_type": "execute_result"
    }
   ],
   "source": [
    "np.array(l2)[np.argsort(l1)]"
   ]
  },
  {
   "cell_type": "code",
   "execution_count": 65,
   "metadata": {},
   "outputs": [
    {
     "data": {
      "text/plain": [
       "(1.0, float)"
      ]
     },
     "execution_count": 65,
     "metadata": {},
     "output_type": "execute_result"
    }
   ],
   "source": [
    "\n",
    "def euclidean_dist(u, v):\n",
    "    u, v = np.array(u), np.array(v)\n",
    "    return np.sqrt(np.sum((u - v) ** 2))\n",
    "\n",
    "predictions = []\n",
    "for unknown_point in data_unknown:\n",
    "    # step 1 calculate distances \n",
    "    # between unknown point and all known points\n",
    "    dist_vec = []\n",
    "    for known_point in data_known:\n",
    "        dist = euclidean_dist(unknown_point, known_point)\n",
    "        dist_vec.append(dist)\n",
    "\n",
    "    # step 2\n",
    "    # sort all known labels based on distance between \n",
    "    # the known points to the unknown point\n",
    "    sorted_indices = np.argsort(dist_vec)\n",
    "    neighbours_by_distance = np.array(label_known)[sorted_indices]\n",
    "\n",
    "    # step 3\n",
    "    # verify implementation by using only the nearest neighbour\n",
    "    # to predict the unknown point\n",
    "    # k=1 for simplicity\n",
    "    the_nearest_neighour_label = neighbours_by_distance[0]\n",
    "    predictions.append(the_nearest_neighour_label)\n",
    "    \n",
    "# verifiy prediction by accuracy\n",
    "correct_predictions = 0\n",
    "for pred, truth in zip(predictions, label_unknown):\n",
    "    if pred == truth:\n",
    "        correct_predictions += 1\n",
    "total_prediction = data_unknown.shape[0]\n",
    "\n",
    "accuracy = correct_predictions / total_prediction\n",
    "\n",
    "accuracy, type(accuracy)"
   ]
  },
  {
   "cell_type": "code",
   "execution_count": 97,
   "metadata": {},
   "outputs": [
    {
     "data": {
      "text/plain": [
       "(1.0, float)"
      ]
     },
     "execution_count": 97,
     "metadata": {},
     "output_type": "execute_result"
    }
   ],
   "source": [
    "import numpy as np\n",
    "\n",
    "def euclidean_dist(u, v):\n",
    "    u, v = np.array(u), np.array(v)\n",
    "    return np.sqrt(np.sum((u - v) ** 2))\n",
    "\n",
    "def most_frequent(u):\n",
    "    freq_dic = {}\n",
    "    for u_i in u:\n",
    "        if u_i not in freq_dic.keys():\n",
    "            freq_dic[u_i] = 1\n",
    "        else:\n",
    "            freq_dic[u_i] = freq_dic[u_i] + 1\n",
    "    \n",
    "    most_frequent = None\n",
    "    most_frequent_count = 0\n",
    "    # items() of a dictionary gives key, value pairs\n",
    "    for element, freq in freq_dic.items():\n",
    "        if freq > most_frequent_count:\n",
    "            most_frequent_count = freq\n",
    "            most_frequent = element\n",
    "    return most_frequent\n",
    "k = 6\n",
    "predictions = []\n",
    "for unknown_point in data_unknown:\n",
    "    # step 1 calculate distances \n",
    "    # between unknown point and all known points\n",
    "    dist_vec = []\n",
    "    for known_point in data_known:\n",
    "        dist = euclidean_dist(unknown_point, known_point)\n",
    "        dist_vec.append(dist)\n",
    "\n",
    "    # step 2\n",
    "    # sort all known labels based on distance between \n",
    "    # the known points to the unknown point\n",
    "    sorted_indices = np.argsort(dist_vec)\n",
    "    neighbours_by_distance = np.array(label_known)[sorted_indices]\n",
    "\n",
    "    # step 3\n",
    "    # use k nearest neighbours to predict the unknown point\n",
    "    k_nearest_neighour_labels = neighbours_by_distance[:k]\n",
    "    predictions.append(most_frequent(k_nearest_neighour_labels))\n",
    "    \n",
    "# verifiy prediction by accuracy\n",
    "correct_predictions = 0\n",
    "for pred, truth in zip(predictions, label_unknown):\n",
    "    if pred == truth:\n",
    "        correct_predictions += 1\n",
    "total_prediction = data_unknown.shape[0]\n",
    "\n",
    "accuracy = correct_predictions / total_prediction\n",
    "\n",
    "accuracy, type(accuracy)"
   ]
  },
  {
   "cell_type": "code",
   "execution_count": 93,
   "metadata": {},
   "outputs": [
    {
     "data": {
      "text/plain": [
       "array([2, 1, 0, 2, 0, 1, 2, 2, 1, 2, 0, 0, 0, 0, 0, 2, 0, 2, 1, 0])"
      ]
     },
     "execution_count": 93,
     "metadata": {},
     "output_type": "execute_result"
    }
   ],
   "source": [
    "label_known"
   ]
  },
  {
   "cell_type": "code",
   "execution_count": 99,
   "metadata": {},
   "outputs": [
    {
     "data": {
      "text/plain": [
       "0"
      ]
     },
     "execution_count": 99,
     "metadata": {},
     "output_type": "execute_result"
    }
   ],
   "source": [
    "most_frequent(label_known)"
   ]
  },
  {
   "cell_type": "code",
   "execution_count": 100,
   "metadata": {},
   "outputs": [
    {
     "data": {
      "text/plain": [
       "array([1, 2, 2, 1, 2, 1, 1, 1, 1, 0])"
      ]
     },
     "execution_count": 100,
     "metadata": {},
     "output_type": "execute_result"
    }
   ],
   "source": [
    "label_unknown"
   ]
  },
  {
   "cell_type": "code",
   "execution_count": 96,
   "metadata": {},
   "outputs": [
    {
     "name": "stdout",
     "output_type": "stream",
     "text": [
      "Ground truth:  [1 2 2 1 2 1 1 1 1 0]\n",
      "Prediction:  [1. 2. 2. 1. 2. 1. 1. 1. 1. 0.]\n"
     ]
    }
   ],
   "source": [
    "import numpy as np\n",
    "from scipy.stats import mode\n",
    "\n",
    "def euclidean_dist(u, v):\n",
    "    return np.sqrt(np.sum((u - v) ** 2))\n",
    "\n",
    "k = 5\n",
    "\n",
    "predictions = []\n",
    "\n",
    "for i, unknown_sample in enumerate(data_unknown):\n",
    "    neighbours = []\n",
    "    \n",
    "    for j, observed_sample in enumerate(data_known):\n",
    "        distance = euclidean_dist(unknown_sample, observed_sample)\n",
    "        neighbours.append([distance, label_known[j]])\n",
    "    \n",
    "    neighbours = np.array(neighbours)\n",
    "    knn = neighbours[neighbours[:, 0].argsort()][:k]\n",
    "    predictions.append(mode(knn[:, 1])[0])\n",
    "\n",
    "print('Ground truth: ', np.ravel(label_unknown))\n",
    "print('Prediction: ', np.ravel(predictions))"
   ]
  },
  {
   "cell_type": "code",
   "execution_count": 19,
   "metadata": {},
   "outputs": [
    {
     "data": {
      "image/png": "[encoded data removed]",
      "text/plain": [
       "<matplotlib.figure.Figure at 0x127b96d5f98>"
      ]
     },
     "metadata": {},
     "output_type": "display_data"
    }
   ],
   "source": [
    "plt1 = plt.scatter(data_known[:, 0], data_known[:, 1], c=label_known, alpha=0.5)\n",
    "plt2 = plt.scatter(data_unknown[:, 0], data_unknown[:, 1], c=np.ravel(predictions), marker='^')\n",
    "plt.show()"
   ]
  },
  {
   "cell_type": "code",
   "execution_count": 20,
   "metadata": {},
   "outputs": [
    {
     "data": {
      "text/plain": [
       "(array([2.15163874, 4.85890208]), 1)"
      ]
     },
     "execution_count": 20,
     "metadata": {},
     "output_type": "execute_result"
    }
   ],
   "source": [
    "unknown_sample = data_unknown[0]\n",
    "unknown_sample_label = label_unknown[0]\n",
    "unknown_sample, unknown_sample_label"
   ]
  },
  {
   "cell_type": "code",
   "execution_count": 21,
   "metadata": {},
   "outputs": [
    {
     "data": {
      "text/plain": [
       "(array([1., 2., 2., 1., 2., 1., 1., 1., 1., 0.]),\n",
       " array([1, 2, 2, 1, 2, 1, 1, 1, 1, 0]))"
      ]
     },
     "execution_count": 21,
     "metadata": {},
     "output_type": "execute_result"
    }
   ],
   "source": [
    "import numpy as np\n",
    "\n",
    "def euclidean_dist(u, v):\n",
    "    return np.sqrt(np.sum((u - v) ** 2))\n",
    "k=3\n",
    "\n",
    "\n",
    "# unknown_sample = data_unknown[0]\n",
    "# unknown_sample_label = label_unknown[0]\n",
    "predictions = []\n",
    "for unknown_sample in data_unknown:\n",
    "    neighbours = []\n",
    "\n",
    "    for i, known_sample in enumerate(data_known):\n",
    "\n",
    "        distance = euclidean_dist(unknown_sample, known_sample)\n",
    "\n",
    "        neighbours.append([label_known[i] ,distance])\n",
    "\n",
    "    neighbours = np.array(neighbours)\n",
    "\n",
    "    all_nearest_labels = neighbours[:, 0][np.argsort(neighbours[:, 1])]\n",
    "\n",
    "    k_nearest_labels = all_nearest_labels[:k]\n",
    "\n",
    "    from scipy.stats import mode\n",
    "\n",
    "    predicted_label = mode(k_nearest_labels)[0]\n",
    "    predictions.append(predicted_label)\n",
    "\n",
    "np.ravel(predictions), label_unknown"
   ]
  },
  {
   "cell_type": "markdown",
   "metadata": {},
   "source": [
    "###  normalisation"
   ]
  },
  {
   "cell_type": "code",
   "execution_count": 22,
   "metadata": {},
   "outputs": [
    {
     "data": {
      "text/plain": [
       "array([[ 10,   1],\n",
       "       [ 20,   2],\n",
       "       [ 30,   3],\n",
       "       [ 40,   4],\n",
       "       [ 50,   5],\n",
       "       [ 60,   6],\n",
       "       [ 70,   7],\n",
       "       [ 80,   8],\n",
       "       [ 90,   9],\n",
       "       [100,  10]])"
      ]
     },
     "execution_count": 22,
     "metadata": {},
     "output_type": "execute_result"
    }
   ],
   "source": [
    "x1 = np.arange(10, 110, 10)\n",
    "x2 = np.arange(1, 11, 1)\n",
    "x = np.vstack([x1, x2]).T\n",
    "x"
   ]
  },
  {
   "cell_type": "code",
   "execution_count": 23,
   "metadata": {
    "scrolled": true
   },
   "outputs": [
    {
     "data": {
      "text/plain": [
       "array([[0.        , 0.        ],\n",
       "       [0.11111111, 0.11111111],\n",
       "       [0.22222222, 0.22222222],\n",
       "       [0.33333333, 0.33333333],\n",
       "       [0.44444444, 0.44444444],\n",
       "       [0.55555556, 0.55555556],\n",
       "       [0.66666667, 0.66666667],\n",
       "       [0.77777778, 0.77777778],\n",
       "       [0.88888889, 0.88888889],\n",
       "       [1.        , 1.        ]])"
      ]
     },
     "execution_count": 23,
     "metadata": {},
     "output_type": "execute_result"
    }
   ],
   "source": [
    "(x - x.min(axis=0)) / (x.max(axis=0) - x.min(axis=0))"
   ]
  }
 ],
 "metadata": {
  "kernelspec": {
   "display_name": "Python 3",
   "language": "python",
   "name": "python3"
  },
  "language_info": {
   "codemirror_mode": {
    "name": "ipython",
    "version": 3
   },
   "file_extension": ".py",
   "mimetype": "text/x-python",
   "name": "python",
   "nbconvert_exporter": "python",
   "pygments_lexer": "ipython3",
   "version": "3.6.7"
  }
 },
 "nbformat": 4,
 "nbformat_minor": 2
}

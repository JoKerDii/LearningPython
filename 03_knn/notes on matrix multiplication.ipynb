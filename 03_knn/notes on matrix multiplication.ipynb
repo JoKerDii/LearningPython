{
 "cells": [
  {
   "cell_type": "code",
   "execution_count": 1,
   "metadata": {},
   "outputs": [
    {
     "data": {
      "text/html": [
       "\n",
       "<style>\n",
       "\n",
       "        \n",
       "div.cell { /* Tunes the space between cells */\n",
       "    margin-top:1em;\n",
       "    margin-bottom:3em;\n",
       "}\n",
       "\n",
       "div.text_cell_render { /* Customize text cells */\n",
       "    font-family:  Times New Roman, Times, serif;\n",
       "    font-weight: 500;\n",
       "    font-size:1.2em;\n",
       "    line-height:1.2em;\n",
       "    padding-left:3em;\n",
       "    padding-right:3em;\n",
       "}\n",
       "</style>\n"
      ],
      "text/plain": [
       "<IPython.core.display.HTML object>"
      ]
     },
     "execution_count": 1,
     "metadata": {},
     "output_type": "execute_result"
    }
   ],
   "source": [
    "from IPython.core.display import HTML\n",
    "HTML(\"\"\"\n",
    "<style>\n",
    "\n",
    "        \n",
    "div.cell { /* Tunes the space between cells */\n",
    "    margin-top:1em;\n",
    "    margin-bottom:3em;\n",
    "}\n",
    "\n",
    "div.text_cell_render { /* Customize text cells */\n",
    "    font-family:  Times New Roman, Times, serif;\n",
    "    font-weight: 500;\n",
    "    font-size:1.2em;\n",
    "    line-height:1.2em;\n",
    "    padding-left:3em;\n",
    "    padding-right:3em;\n",
    "}\n",
    "</style>\n",
    "\"\"\")"
   ]
  },
  {
   "cell_type": "markdown",
   "metadata": {},
   "source": [
    "# Quick Notes On Matrix Multiplication\n",
    "\n",
    "## Vector multiplication\n",
    "\n",
    "$\\mathbf{v} = [1, 2, 3], \\mathbf{u} = [4, 5, 6]$\n",
    "\n",
    "$\\mathbf{v} \\cdot \\mathbf{u} = 1 \\times 4 + 2 \\times 5 + 3 \\times 6 = 32$"
   ]
  },
  {
   "cell_type": "code",
   "execution_count": 2,
   "metadata": {},
   "outputs": [
    {
     "data": {
      "text/plain": [
       "32"
      ]
     },
     "execution_count": 2,
     "metadata": {},
     "output_type": "execute_result"
    }
   ],
   "source": [
    "import numpy as np\n",
    "\n",
    "v = np.array([1, 2, 3])\n",
    "u = np.array([4, 5, 6])\n",
    "v.dot(u)"
   ]
  },
  {
   "cell_type": "markdown",
   "metadata": {},
   "source": [
    "## Matrix and vector multiplication"
   ]
  },
  {
   "cell_type": "markdown",
   "metadata": {},
   "source": [
    "$\\mathbf{X} = \\begin{bmatrix}\n",
    "1 & 2 & 1 \\\\\n",
    "3 & 8 & 1 \\\\\n",
    "0 & 4 & 1\n",
    "\\end{bmatrix} $"
   ]
  },
  {
   "cell_type": "code",
   "execution_count": 3,
   "metadata": {},
   "outputs": [
    {
     "data": {
      "text/plain": [
       "array([[1, 2, 1],\n",
       "       [3, 8, 1],\n",
       "       [0, 4, 1]])"
      ]
     },
     "execution_count": 3,
     "metadata": {},
     "output_type": "execute_result"
    }
   ],
   "source": [
    "X = np.array([1,2,1,3,8,1,0,4,1]).reshape(3,3)\n",
    "X"
   ]
  },
  {
   "cell_type": "markdown",
   "metadata": {},
   "source": [
    "### row operations on the left\n",
    "\n",
    "$\n",
    "\\begin{bmatrix}\n",
    "1 & 0 & 0 \n",
    "\\end{bmatrix} \n",
    "\\cdot  \n",
    "\\begin{bmatrix}\n",
    "1 & 2 & 1 \\\\\n",
    "3 & 8 & 1 \\\\\n",
    "0 & 4 & 1\n",
    "\\end{bmatrix} \n",
    "= 1 \\cdot \\begin{bmatrix} 1 & 2 & 1 \\end{bmatrix} \n",
    "+ 0 \\cdot \\begin{bmatrix} 3 & 8 & 1 \\end{bmatrix} \n",
    "+ 0 \\cdot \\begin{bmatrix} 0 & 4 & 1 \\end{bmatrix}\n",
    "$\n",
    "\n",
    "combinations of rows of $\\mathbf{X}$"
   ]
  },
  {
   "cell_type": "code",
   "execution_count": 4,
   "metadata": {},
   "outputs": [
    {
     "data": {
      "text/plain": [
       "array([[1, 2, 1]])"
      ]
     },
     "execution_count": 4,
     "metadata": {},
     "output_type": "execute_result"
    }
   ],
   "source": [
    "np.array([1,0,0]).reshape(1,3).dot(X)"
   ]
  },
  {
   "cell_type": "code",
   "execution_count": 5,
   "metadata": {},
   "outputs": [
    {
     "data": {
      "text/plain": [
       "array([15, 58, 12])"
      ]
     },
     "execution_count": 5,
     "metadata": {},
     "output_type": "execute_result"
    }
   ],
   "source": [
    "np.array([3,4,5]).dot(X)"
   ]
  },
  {
   "cell_type": "markdown",
   "metadata": {},
   "source": [
    "### column operations on the right\n",
    "\n",
    "$\n",
    "\\begin{bmatrix}\n",
    "1 & 2 & 1 \\\\\n",
    "3 & 8 & 1 \\\\\n",
    "0 & 4 & 1\n",
    "\\end{bmatrix}\n",
    "\\cdot  \n",
    "\\begin{bmatrix}\n",
    "1 & 0 & 0 \\\\\n",
    "\\end{bmatrix}\n",
    "= 1 \\cdot \\begin{bmatrix} 1 \\\\ 3 \\\\ 0 \\end{bmatrix} \n",
    "+ 0 \\cdot \\begin{bmatrix} 2 \\\\ 8 \\\\ 4 \\end{bmatrix} \n",
    "+ 0 \\cdot \\begin{bmatrix} 1 \\\\ 1 \\\\ 1 \\end{bmatrix} \n",
    "$\n",
    "\n",
    "combinations of columns of $\\mathbf{X}$"
   ]
  },
  {
   "cell_type": "code",
   "execution_count": 6,
   "metadata": {},
   "outputs": [
    {
     "data": {
      "text/plain": [
       "array([[1],\n",
       "       [3],\n",
       "       [0]])"
      ]
     },
     "execution_count": 6,
     "metadata": {},
     "output_type": "execute_result"
    }
   ],
   "source": [
    "X.dot(np.array([1,0,0]).reshape(3,1))"
   ]
  },
  {
   "cell_type": "code",
   "execution_count": 7,
   "metadata": {},
   "outputs": [
    {
     "data": {
      "text/plain": [
       "array([16, 46, 21])"
      ]
     },
     "execution_count": 7,
     "metadata": {},
     "output_type": "execute_result"
    }
   ],
   "source": [
    "X.dot(np.array([3,4,5]))"
   ]
  },
  {
   "cell_type": "markdown",
   "metadata": {},
   "source": [
    "## Matrix multiplication\n",
    "### identity matrix\n",
    "$\n",
    "\\begin{bmatrix}\n",
    "1 & 0 & 0 \\\\\n",
    "0 & 1 & 0 \\\\\n",
    "0 & 0 & 1\n",
    "\\end{bmatrix}\n",
    "\\cdot\n",
    "\\begin{bmatrix}\n",
    "1 & 2 & 1 \\\\\n",
    "3 & 8 & 1 \\\\\n",
    "0 & 4 & 1\n",
    "\\end{bmatrix} \n",
    "=\n",
    "\\begin{bmatrix}\n",
    "1 & 2 & 1 \\\\\n",
    "3 & 8 & 1 \\\\\n",
    "0 & 4 & 1\n",
    "\\end{bmatrix}\n",
    "\\cdot  \n",
    "\\begin{bmatrix}\n",
    "1 & 0 & 0 \\\\\n",
    "0 & 1 & 0 \\\\\n",
    "0 & 0 & 1\n",
    "\\end{bmatrix}\n",
    "= \\begin{bmatrix}\n",
    "1 & 2 & 1 \\\\\n",
    "3 & 8 & 1 \\\\\n",
    "0 & 4 & 1\n",
    "\\end{bmatrix}\n",
    "$"
   ]
  },
  {
   "cell_type": "code",
   "execution_count": 8,
   "metadata": {},
   "outputs": [
    {
     "data": {
      "text/plain": [
       "array([[1, 2, 1],\n",
       "       [3, 8, 1],\n",
       "       [0, 4, 1]])"
      ]
     },
     "execution_count": 8,
     "metadata": {},
     "output_type": "execute_result"
    }
   ],
   "source": [
    "np.array([1,0,0,0,1,0,0,0,1]).reshape(3,3).dot(X)"
   ]
  },
  {
   "cell_type": "code",
   "execution_count": 9,
   "metadata": {},
   "outputs": [
    {
     "data": {
      "text/plain": [
       "array([[1, 2, 1],\n",
       "       [1, 8, 3],\n",
       "       [1, 4, 0]])"
      ]
     },
     "execution_count": 9,
     "metadata": {},
     "output_type": "execute_result"
    }
   ],
   "source": [
    "X.dot(np.array([0,0,1,0,1,0,1,0,0]).reshape(3,3))"
   ]
  },
  {
   "cell_type": "markdown",
   "metadata": {},
   "source": [
    "### matrix mutiplies matrix\n",
    "\n",
    "<img src=\"matmul.png\">\n",
    "\n",
    "$\n",
    "\\begin{bmatrix}\n",
    "1 & 2 & 3 \\\\\n",
    "4 & 5 & 6 \\\\\n",
    "7 & 8 & 9\n",
    "\\end{bmatrix}\n",
    "\\cdot\n",
    "\\begin{bmatrix}\n",
    "1 & 2 & 1 \\\\\n",
    "3 & 8 & 1 \\\\\n",
    "0 & 4 & 1\n",
    "\\end{bmatrix} \n",
    "=\n",
    "\\begin{bmatrix}\n",
    "7 & 30 & 6 \\\\\n",
    "19 & 72 & 15 \\\\\n",
    "31 & 114 & 24\n",
    "\\end{bmatrix}\n",
    "$\n"
   ]
  },
  {
   "cell_type": "code",
   "execution_count": 10,
   "metadata": {},
   "outputs": [
    {
     "data": {
      "text/plain": [
       "array([[1, 2, 3],\n",
       "       [4, 5, 6],\n",
       "       [7, 8, 9]])"
      ]
     },
     "execution_count": 10,
     "metadata": {},
     "output_type": "execute_result"
    }
   ],
   "source": [
    "Y = np.arange(1,10).reshape(3,3)\n",
    "Y"
   ]
  },
  {
   "cell_type": "code",
   "execution_count": 11,
   "metadata": {},
   "outputs": [
    {
     "data": {
      "text/plain": [
       "array([[  7,  30,   6],\n",
       "       [ 19,  72,  15],\n",
       "       [ 31, 114,  24]])"
      ]
     },
     "execution_count": 11,
     "metadata": {},
     "output_type": "execute_result"
    }
   ],
   "source": [
    "Y.dot(X)"
   ]
  },
  {
   "cell_type": "markdown",
   "metadata": {},
   "source": [
    "## Inverse"
   ]
  },
  {
   "cell_type": "markdown",
   "metadata": {},
   "source": [
    "Find inverse of $\\mathbf{A}$ with Gauss-Jodan method \n",
    "\n",
    "let $\\mathbf{A}$ be \n",
    "\n",
    "$\\begin{bmatrix}\n",
    "1 & 3 \\\\\n",
    "2 & 7\n",
    "\\end{bmatrix}$\n",
    "\n",
    "construct the augmented matrix $<\\mathbf{A}|\\mathbf{I}>$:\n",
    "\n",
    "$\\left[\n",
    "\\begin{array}{rr|rr}\n",
    "1 & 3 & 1 & 0\\\\\n",
    "2 & 7 & 0 & 1\n",
    "\\end{array}\n",
    "\\right]$\n",
    "\n",
    "keep eliminating $<\\mathbf{A}|\\mathbf{I}>$ until the left matrix is identity:\n",
    "\n",
    "$\\left[\n",
    "\\begin{array}{rr|rr}\n",
    "1 & 0 & 7 & -3\\\\\n",
    "0 & 1 & -2 & 1\n",
    "\\end{array}\n",
    "\\right]$\n",
    "\n",
    "thus $\\mathbf{A}^{-1}$ is:\n",
    "\n",
    "$\\left[\n",
    "\\begin{array}{rr}\n",
    "7 & -3\\\\\n",
    "-2 & 1\n",
    "\\end{array}\n",
    "\\right]$\n",
    "\n",
    "suppose the elimination matrix is $\\mathbf{E}$ such that $\\mathbf{E} \\mathbf{A} = \\mathbf{I}$, then $\\mathbf{E} = \\mathbf{A}^{-1}$\n",
    "\n",
    "to make the left matrix in $<\\mathbf{A}|\\mathbf{I}>$ an indentity matrix, multiply $\\mathbf{E}$ to the left:\n",
    "\n",
    "$\\mathbf{E} <\\mathbf{A}|\\mathbf{I}> = <\\mathbf{I}|\\mathbf{A}^{-1}>$ "
   ]
  },
  {
   "cell_type": "code",
   "execution_count": 12,
   "metadata": {},
   "outputs": [
    {
     "data": {
      "text/plain": [
       "array([[1, 3, 1, 0],\n",
       "       [2, 7, 0, 1]])"
      ]
     },
     "execution_count": 12,
     "metadata": {},
     "output_type": "execute_result"
    }
   ],
   "source": [
    "Y = np.array([1,3,1,0,2,7,0,1]).reshape(2,4)\n",
    "Y"
   ]
  },
  {
   "cell_type": "code",
   "execution_count": 13,
   "metadata": {},
   "outputs": [
    {
     "data": {
      "text/plain": [
       "array([[ 1,  3,  1,  0],\n",
       "       [ 0,  1, -2,  1]])"
      ]
     },
     "execution_count": 13,
     "metadata": {},
     "output_type": "execute_result"
    }
   ],
   "source": [
    "Y2 = np.array([1,0,-2,1]).reshape(2,2).dot(Y)\n",
    "Y2"
   ]
  },
  {
   "cell_type": "code",
   "execution_count": 14,
   "metadata": {},
   "outputs": [
    {
     "data": {
      "text/plain": [
       "array([[ 1,  0,  7, -3],\n",
       "       [ 0,  1, -2,  1]])"
      ]
     },
     "execution_count": 14,
     "metadata": {},
     "output_type": "execute_result"
    }
   ],
   "source": [
    "Y3 = np.array([1,-3,0,1]).reshape(2,2).dot(Y2)\n",
    "Y3"
   ]
  },
  {
   "cell_type": "code",
   "execution_count": 15,
   "metadata": {
    "scrolled": false
   },
   "outputs": [
    {
     "data": {
      "text/plain": [
       "array([[ 7, -3],\n",
       "       [-2,  1]])"
      ]
     },
     "execution_count": 15,
     "metadata": {},
     "output_type": "execute_result"
    }
   ],
   "source": [
    "E = np.array([1,-3,0,1]).reshape(2,2).dot(np.array([1,0,-2,1]).reshape(2,2))\n",
    "E"
   ]
  }
 ],
 "metadata": {
  "kernelspec": {
   "display_name": "Python 3",
   "language": "python",
   "name": "python3"
  },
  "language_info": {
   "codemirror_mode": {
    "name": "ipython",
    "version": 3
   },
   "file_extension": ".py",
   "mimetype": "text/x-python",
   "name": "python",
   "nbconvert_exporter": "python",
   "pygments_lexer": "ipython3",
   "version": "3.6.7"
  }
 },
 "nbformat": 4,
 "nbformat_minor": 2
}

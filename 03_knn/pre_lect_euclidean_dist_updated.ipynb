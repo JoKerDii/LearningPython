{
 "cells": [
  {
   "cell_type": "markdown",
   "metadata": {},
   "source": [
    "# Euclidean Distance"
   ]
  },
  {
   "cell_type": "markdown",
   "metadata": {},
   "source": [
    "Given a Cartesian coordinate system, the Eculidean distance between two vectors $\\textbf{u}$ and $\\textbf{v}$ is defined as: <br>\n",
    "\n",
    "\n",
    "\\begin{equation}\n",
    "d(\\textbf{u}, \\textbf{v}) = d(\\textbf{v}, \\textbf{u}) = \\sqrt{\\sum_{i=1}^{n} (\\textbf{u}_i - \\textbf{v}_i)^2}\n",
    "\\end{equation} <br>\n",
    "\n",
    "This is also known as $\\ell^2$ distance between $\\textbf{u}$ and $\\textbf{v}$, or the $\\ell^2$-norm of $\\textbf{u} - \\textbf{v}$:<br>\n",
    "\n",
    "\\begin{equation}\n",
    "\\| \\textbf{u} - \\textbf{v} \\|_2\n",
    "\\end{equation} <br>\n",
    "\n",
    "Implement Euclidean distance with Numpy"
   ]
  },
  {
   "cell_type": "code",
   "execution_count": 3,
   "metadata": {},
   "outputs": [
    {
     "data": {
      "text/plain": [
       "5.196152422706632"
      ]
     },
     "execution_count": 3,
     "metadata": {},
     "output_type": "execute_result"
    }
   ],
   "source": [
    "import math\n",
    "u = [1, 2, 3]\n",
    "v = [4, 5, 6]\n",
    "\n",
    "squared_sum = 0\n",
    "for u_i, v_i in zip(u, v):\n",
    "    squared_sum += (u_i - v_i) ** 2\n",
    "\n",
    "math.sqrt(squared_sum)"
   ]
  },
  {
   "cell_type": "markdown",
   "metadata": {},
   "source": [
    "$\\sqrt{(\\mathbf{u} - \\mathbf{v}) \\cdot (\\mathbf{u} - \\mathbf{v})}$"
   ]
  },
  {
   "cell_type": "code",
   "execution_count": 6,
   "metadata": {},
   "outputs": [
    {
     "data": {
      "text/plain": [
       "5.196152422706632"
      ]
     },
     "execution_count": 6,
     "metadata": {},
     "output_type": "execute_result"
    }
   ],
   "source": [
    "import numpy as np\n",
    "u = np.array([1, 2, 3])\n",
    "v = np.array([4, 5, 6])\n",
    "np.sqrt((u - v).dot(u - v))"
   ]
  },
  {
   "cell_type": "markdown",
   "metadata": {},
   "source": [
    "Note, in ```numpy```, ```*``` gives element-wise multiplication, which is **not** the matrix/vector multiplication as we known as dot product.\n",
    "\n",
    "avilable only to ```numpy.ndarray```"
   ]
  },
  {
   "cell_type": "code",
   "execution_count": 7,
   "metadata": {},
   "outputs": [
    {
     "data": {
      "text/plain": [
       "array([ 4, 10, 18])"
      ]
     },
     "execution_count": 7,
     "metadata": {},
     "output_type": "execute_result"
    }
   ],
   "source": [
    "u * v"
   ]
  },
  {
   "cell_type": "code",
   "execution_count": 8,
   "metadata": {},
   "outputs": [
    {
     "data": {
      "text/plain": [
       "array([1, 4, 9], dtype=int32)"
      ]
     },
     "execution_count": 8,
     "metadata": {},
     "output_type": "execute_result"
    }
   ],
   "source": [
    "u ** 2"
   ]
  },
  {
   "cell_type": "markdown",
   "metadata": {},
   "source": [
    "element-wise square of every element in vector $\\mathbf{u} - \\mathbf{v}$"
   ]
  },
  {
   "cell_type": "code",
   "execution_count": 9,
   "metadata": {},
   "outputs": [
    {
     "data": {
      "text/plain": [
       "array([9, 9, 9], dtype=int32)"
      ]
     },
     "execution_count": 9,
     "metadata": {},
     "output_type": "execute_result"
    }
   ],
   "source": [
    "(u - v) ** 2"
   ]
  },
  {
   "cell_type": "markdown",
   "metadata": {},
   "source": [
    "square root of sum of all elements in ```(u - v) ** 2```"
   ]
  },
  {
   "cell_type": "code",
   "execution_count": 12,
   "metadata": {},
   "outputs": [
    {
     "data": {
      "text/plain": [
       "5.196152422706632"
      ]
     },
     "execution_count": 12,
     "metadata": {},
     "output_type": "execute_result"
    }
   ],
   "source": [
    "np.sqrt(np.sum((u - v) ** 2))"
   ]
  },
  {
   "cell_type": "code",
   "execution_count": 3,
   "metadata": {},
   "outputs": [],
   "source": [
    "import numpy as np\n",
    "def euclidean_dist(u, v):\n",
    "    # write your code here\n",
    "    u, v = np.array(u), np.array(v)\n",
    "    # return\n",
    "    pass\n",
    "    return np.sqrt(np.sum((u - v) ** 2))"
   ]
  },
  {
   "cell_type": "markdown",
   "metadata": {},
   "source": [
    "如果实现正确, 运行下方代码时不应该出现 AssertionError"
   ]
  },
  {
   "cell_type": "code",
   "execution_count": 4,
   "metadata": {},
   "outputs": [
    {
     "name": "stdout",
     "output_type": "stream",
     "text": [
      "Your implementation is correct.\n"
     ]
    }
   ],
   "source": [
    "import numpy as np\n",
    "from scipy.spatial.distance import euclidean\n",
    "for _ in range(10):\n",
    "    u = np.random.rand(50)\n",
    "    v = np.random.rand(50)\n",
    "    assert np.isclose(euclidean_dist(u, v), np.linalg.norm(u - v))\n",
    "    assert np.isclose(euclidean_dist(u, v), euclidean(u, v))\n",
    "print('Your implementation is correct.')"
   ]
  },
  {
   "cell_type": "code",
   "execution_count": 16,
   "metadata": {},
   "outputs": [],
   "source": [
    "?np.isclose"
   ]
  }
 ],
 "metadata": {
  "kernelspec": {
   "display_name": "Python 3",
   "language": "python",
   "name": "python3"
  },
  "language_info": {
   "codemirror_mode": {
    "name": "ipython",
    "version": 3
   },
   "file_extension": ".py",
   "mimetype": "text/x-python",
   "name": "python",
   "nbconvert_exporter": "python",
   "pygments_lexer": "ipython3",
   "version": "3.6.7"
  }
 },
 "nbformat": 4,
 "nbformat_minor": 2
}

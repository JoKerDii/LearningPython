{
 "cells": [
  {
   "cell_type": "markdown",
   "metadata": {
    "toc": true
   },
   "source": [
    "<h1>Table of Contents<span class=\"tocSkip\"></span></h1>\n",
    "<div class=\"toc\"><ul class=\"toc-item\"><li><span><a href=\"#Regression\" data-toc-modified-id=\"Regression-1\"><span class=\"toc-item-num\">1&nbsp;&nbsp;</span>Regression</a></span></li><li><span><a href=\"#Linear-Regression-Model-_-Ordinary-Least-Square-(OLS)\" data-toc-modified-id=\"Linear-Regression-Model-_-Ordinary-Least-Square-(OLS)-2\"><span class=\"toc-item-num\">2&nbsp;&nbsp;</span>Linear Regression Model _ Ordinary Least Square (OLS)</a></span><ul class=\"toc-item\"><li><span><a href=\"#$argmin_{\\hat{\\textbf{w}}}-||\\textbf{X}\\hat{\\textbf{w}}---\\textbf{y}||_2^2$--closed-form-solution\" data-toc-modified-id=\"$argmin_{\\hat{\\textbf{w}}}-||\\textbf{X}\\hat{\\textbf{w}}---\\textbf{y}||_2^2$--closed-form-solution-2.1\"><span class=\"toc-item-num\">2.1&nbsp;&nbsp;</span>$argmin_{\\hat{\\textbf{w}}} ||\\textbf{X}\\hat{\\textbf{w}} - \\textbf{y}||_2^2$  closed form solution</a></span></li><li><span><a href=\"#Linear-Regression-In-Action\" data-toc-modified-id=\"Linear-Regression-In-Action-2.2\"><span class=\"toc-item-num\">2.2&nbsp;&nbsp;</span>Linear Regression In Action</a></span></li><li><span><a href=\"#coefficient-of-determination:-$r^2$\" data-toc-modified-id=\"coefficient-of-determination:-$r^2$-2.3\"><span class=\"toc-item-num\">2.3&nbsp;&nbsp;</span>coefficient of determination: $r^2$</a></span></li><li><span><a href=\"#Residuals\" data-toc-modified-id=\"Residuals-2.4\"><span class=\"toc-item-num\">2.4&nbsp;&nbsp;</span>Residuals</a></span></li></ul></li><li><span><a href=\"#sklearn-linear-regression\" data-toc-modified-id=\"sklearn-linear-regression-3\"><span class=\"toc-item-num\">3&nbsp;&nbsp;</span><code>sklearn</code> linear regression</a></span></li><li><span><a href=\"#Exercise\" data-toc-modified-id=\"Exercise-4\"><span class=\"toc-item-num\">4&nbsp;&nbsp;</span>Exercise</a></span></li></ul></div>"
   ]
  },
  {
   "cell_type": "markdown",
   "metadata": {},
   "source": [
    "# Regression"
   ]
  },
  {
   "cell_type": "markdown",
   "metadata": {},
   "source": [
    "Given income of people from different area, ratio of teachers and students …… up to 13 features(columns) and the median of housing price. How to estimate the housing price of a certain area.\n",
    "\n",
    "* Model is defined as a function <br><br>\n",
    "  Input are $m$ data of area $\\textbf{X}$, represented as a $m\\times 13$ matrix <br><br>\n",
    "  Output are $m$ median of housing price $\\textbf{y}$, represented as a $m$ vector : <br><br>\n",
    "<br><br>\n",
    "   \\begin{equation}\n",
    "   f(\\textbf{X}):=\\{\\textbf{X} \\mapsto \\textbf{y} \\}\\\\\n",
    "   \\textbf{X} \\in \\mathbb{R}^{m\\times 13},\n",
    "   \\textbf{y} \\in \\mathbb{R}^m\n",
    "   \\end{equation}\n",
    "<br><br>\n",
    "<br><br>\n",
    "\n",
    "* Assuming $\\textbf{y}$ are the true $m$ medians of housing price, the predicted medians of housing price by model are $f(\\textbf{X}_i), i = 1,2,...,m$ we want to minimize the difference of them. \n",
    "<br><br>\n",
    "     \\begin{equation}\n",
    "      \\epsilon = |\\textbf{y} - f(\\textbf{X})| = \\sum_{i=1}^{m} |\\textbf{y} - f(\\textbf{X})|\n",
    "     \\end{equation}\n",
    "<br><br>\n",
    "* Optimization: we hope to find the model with lowest error $f$\n",
    "<br><br>\n",
    " \\begin{equation}\n",
    "     f = argmin(\\epsilon) = argmin \\sum_{i=1}^{m} |\\textbf{y} - f(\\textbf{X})|\n",
    " \\end{equation}\n",
    " <br><br>\n",
    "<br>\n",
    "* However, as optimization (maximization and minimization) $|\\textbf{u}|$ has no closed form solution, usually the alternative solution is to optimize $||\\textbf{u}||_2$. that is:\n",
    "<br><br>\n",
    " \\begin{equation}\n",
    "     f = argmin \\sum_{i=1}^{m} ||\\textbf{y} - f(\\textbf{X})||_2\n",
    " \\end{equation}\n",
    " <br><br>\n",
    "<br>"
   ]
  },
  {
   "cell_type": "markdown",
   "metadata": {},
   "source": [
    "# Linear Regression Model _ Ordinary Least Square (OLS) "
   ]
  },
  {
   "cell_type": "markdown",
   "metadata": {},
   "source": [
    "<br><br>\n",
    " \\begin{equation}\n",
    "     \\textbf{y} = \\textbf{w}_{0} * \\underbrace{[1,...,1]}_{m} + \\textbf{w}_1*\\textbf{X}_{:,1} + \\textbf{w}_2*\\textbf{X}_{:,2} + ... + \\textbf{w}_n*\\textbf{X}_{:,n}\\\\\n",
    "     \\textbf{y} = (\\underbrace{[1,...,1]^T}_{m} | \\textbf{X} ) \\textbf{w}\\\\\n",
    "     \\text{where }\\textbf{X} \\in \\mathbb{R}^{m\\times n}, \\textbf{y} \\in \\mathbb{R}^m, \\textbf{w} \\in \\mathbb{R}^{n+1}\\\\\n",
    "     \\quad\\\\\n",
    "     \\text{note } (\\textbf{A} | \\textbf{B}) \\text{is known as augmentation, you may see it as column stack}\\\\\n",
    "     \\text{hence } (\\underbrace{[1,...,1]^T}_{m} | \\textbf{X} ) \\in \\mathbb{R}^{m\\times (n+1)}\n",
    " \\end{equation}\n",
    " <br><br>\n",
    "<br>\n",
    "more on matrix augmentation<br>\n",
    "https://en.wikipedia.org/wiki/Augmented_matrix"
   ]
  },
  {
   "cell_type": "code",
   "execution_count": 3,
   "metadata": {},
   "outputs": [
    {
     "data": {
      "text/plain": [
       "array([ True,  True,  True])"
      ]
     },
     "execution_count": 3,
     "metadata": {},
     "output_type": "execute_result"
    }
   ],
   "source": [
    "import numpy as np\n",
    "X = np.array([[1, 5], [3, 2], [6, 1]])\n",
    "y = np.array([2, 3, 4])\n",
    "w = np.array([2.4285714285714288, 0.28571429, -0.14285714])\n",
    "\n",
    "ones = np.ones(X.shape[0])\n",
    "augX = np.column_stack([ones, X])\n",
    "y_pred = augX.dot(w)\n",
    "np.isclose(y, y_pred)"
   ]
  },
  {
   "cell_type": "markdown",
   "metadata": {},
   "source": [
    "note:\n",
    "\n",
    "`numpy.ndarray.dot(b, out=None)`\n",
    "\n",
    "Dot product of two arrays.<br>\n",
    "\n",
    "<br>\n",
    "\n",
    "Equivalent function\n",
    "\n",
    "\n",
    "`numpy.dot(a, b, out=None)`\n",
    "\n",
    "Dot product of two arrays.\n",
    "\n",
    "For 2-D arrays it is equivalent to matrix multiplication, and for 1-D arrays to inner product of vectors (without complex conjugation). For N dimensions it is a sum product over the last axis of a and the second-to-last of b:"
   ]
  },
  {
   "cell_type": "markdown",
   "metadata": {},
   "source": [
    "## $argmin_{\\hat{\\textbf{w}}} ||\\textbf{X}\\hat{\\textbf{w}} - \\textbf{y}||_2^2$  closed form solution"
   ]
  },
  {
   "cell_type": "markdown",
   "metadata": {},
   "source": [
    "Notes that for convenience $\\textbf{X}$ below represents $(\\underbrace{[1,...,1]^T}_{m} | \\textbf{X} )$ above <br>\n",
    "\n",
    "<br> We want to get a $\\textbf{w}$ with highest degree of model fitting<br>\n",
    "\n",
    "Supposing there is a $\\hat{\\textbf{w}}$ satisfies $\\textbf{X}\\hat{\\textbf{w}}\\approx \\textbf{y}$, degree of model fitting can be represented as $||\\textbf{X}\\hat{\\textbf{w}} - \\textbf{y}||_2^2$, thus$\\hat{\\textbf{w}}$ can be represented by:<br>\n",
    "\n",
    "<br><br>\n",
    " \\begin{equation}\n",
    "     \\hat{\\textbf{w}} = argmin(J(\\hat{\\textbf{w}}))     = argmin ||\\textbf{X}\\hat{\\textbf{w}} - \\textbf{y}||_2^2\n",
    " \\end{equation}\n",
    " <br><br>\n",
    "<br>\n",
    "$argmin_{\\hat{\\textbf{w}}} ||\\textbf{X}\\hat{\\textbf{w}} - \\textbf{y}||_2^2$ has closed form solution:\n",
    "<br><br>\n",
    " \\begin{equation}\n",
    "     \\hat{\\textbf{w}} = (\\textbf{X}^T\\textbf{X})^{-1}\\textbf{X}^T\\textbf{y}\n",
    " \\end{equation}\n",
    " <br><br>\n",
    "<br>\n",
    "\n",
    "About closed form solution: <br>\n",
    "http://mathworld.wolfram.com/Closed-FormSolution.html <br>\n",
    "https://stats.stackexchange.com/questions/70848/what-does-a-closed-form-solution-mean <br>\n",
    "\n",
    "<br>\n",
    "About closed form solution of optimization: <br>\n",
    "https://mathoverflow.net/questions/152312/closed-form-solution-for-least-squares-problem <br>\n"
   ]
  },
  {
   "cell_type": "markdown",
   "metadata": {},
   "source": [
    "1. `fit`, then `X_train, y_train` to calculate $\\hat{\\textbf{w}}$, and update $\\hat{\\textbf{w}}$ to the attribute of class `self.w`  <br>\n",
    "<br>\n",
    "2. `predict`, use `w`,  i.e `self.w`, $\\textbf{y}_{pred} = \\textbf{X}_{test}\\hat{\\textbf{w}}$ output predicted value `y_pred` <br>\n",
    "<br>\n",
    "3. Calculate $\\textbf{A}^{-1}$ by `np.linalg.inv` <br>\n",
    "  \n",
    "\n",
    "`numpy.linalg.inv(a)`\n",
    "Compute the (multiplicative) inverse of a matrix.\n",
    "\n",
    "Given a square matrix `a`, return the matrix `ainv` satisfying `dot(a, ainv) = dot(ainv, a) = eye(a.shape[0])`.\n",
    "\n",
    "Parameters:\t\n",
    "`a` : (..., M, M) array_like\n",
    "Matrix to be inverted.\n",
    "Returns:\t\n",
    "`ainv` : (..., M, M) ndarray or matrix\n",
    "(Multiplicative) inverse of the matrix a.\n",
    "Raises:\t\n",
    "`LinAlgError`\n",
    "If a is not square or inversion fails.\n",
    "<br>"
   ]
  },
  {
   "cell_type": "code",
   "execution_count": 4,
   "metadata": {},
   "outputs": [],
   "source": [
    "import numpy as np\n",
    "\n",
    "class MyLinearRegression:\n",
    "    def __init__(self):\n",
    "        self.w = None\n",
    "\n",
    "    @staticmethod\n",
    "    def ones_augment_to_left(X):\n",
    "        X = np.array(X)\n",
    "        ones = np.ones(X.shape[0])\n",
    "        return np.column_stack([ones, X])\n",
    "\n",
    "    def fit(self, X_train, y_train):\n",
    "        X = self.ones_augment_to_left(X_train)\n",
    "        y = np.array(y_train)\n",
    "\n",
    "        # write your code here #\n",
    "        \n",
    "        return self\n",
    "\n",
    "    def predict(self, X_test):\n",
    "        X_test = np.array(X_test)\n",
    "\n",
    "        # write your code here #\n",
    "\n",
    "        return # write your code here #"
   ]
  },
  {
   "cell_type": "code",
   "execution_count": 5,
   "metadata": {},
   "outputs": [
    {
     "ename": "TypeError",
     "evalue": "ufunc 'isfinite' not supported for the input types, and the inputs could not be safely coerced to any supported types according to the casting rule ''safe''",
     "output_type": "error",
     "traceback": [
      "\u001b[1;31m---------------------------------------------------------------------------\u001b[0m",
      "\u001b[1;31mTypeError\u001b[0m                                 Traceback (most recent call last)",
      "\u001b[1;32m<ipython-input-5-c1395ebe03aa>\u001b[0m in \u001b[0;36m<module>\u001b[1;34m\u001b[0m\n\u001b[0;32m      7\u001b[0m \u001b[0my\u001b[0m \u001b[1;33m=\u001b[0m \u001b[1;33m[\u001b[0m\u001b[1;36m2\u001b[0m\u001b[1;33m,\u001b[0m \u001b[1;36m3\u001b[0m\u001b[1;33m,\u001b[0m \u001b[1;36m4\u001b[0m\u001b[1;33m]\u001b[0m\u001b[1;33m\u001b[0m\u001b[1;33m\u001b[0m\u001b[0m\n\u001b[0;32m      8\u001b[0m \u001b[0my_pred\u001b[0m \u001b[1;33m=\u001b[0m \u001b[0mmlr\u001b[0m\u001b[1;33m.\u001b[0m\u001b[0mfit\u001b[0m\u001b[1;33m(\u001b[0m\u001b[0mX\u001b[0m\u001b[1;33m,\u001b[0m \u001b[0my\u001b[0m\u001b[1;33m)\u001b[0m\u001b[1;33m.\u001b[0m\u001b[0mpredict\u001b[0m\u001b[1;33m(\u001b[0m\u001b[0mX\u001b[0m\u001b[1;33m)\u001b[0m\u001b[1;33m\u001b[0m\u001b[1;33m\u001b[0m\u001b[0m\n\u001b[1;32m----> 9\u001b[1;33m \u001b[0mprint\u001b[0m\u001b[1;33m(\u001b[0m\u001b[1;34m'Am I correct? \\n'\u001b[0m\u001b[1;33m,\u001b[0m \u001b[0mnp\u001b[0m\u001b[1;33m.\u001b[0m\u001b[0misclose\u001b[0m\u001b[1;33m(\u001b[0m\u001b[0my\u001b[0m\u001b[1;33m,\u001b[0m \u001b[0my_pred\u001b[0m\u001b[1;33m)\u001b[0m\u001b[1;33m.\u001b[0m\u001b[0mall\u001b[0m\u001b[1;33m(\u001b[0m\u001b[1;33m)\u001b[0m\u001b[1;33m)\u001b[0m\u001b[1;33m\u001b[0m\u001b[1;33m\u001b[0m\u001b[0m\n\u001b[0m\u001b[0;32m     10\u001b[0m \u001b[1;33m\u001b[0m\u001b[0m\n\u001b[0;32m     11\u001b[0m '''\n",
      "\u001b[1;32mD:\\Anaconda\\lib\\site-packages\\numpy\\core\\numeric.py\u001b[0m in \u001b[0;36misclose\u001b[1;34m(a, b, rtol, atol, equal_nan)\u001b[0m\n\u001b[0;32m   2520\u001b[0m \u001b[1;33m\u001b[0m\u001b[0m\n\u001b[0;32m   2521\u001b[0m     \u001b[0mxfin\u001b[0m \u001b[1;33m=\u001b[0m \u001b[0misfinite\u001b[0m\u001b[1;33m(\u001b[0m\u001b[0mx\u001b[0m\u001b[1;33m)\u001b[0m\u001b[1;33m\u001b[0m\u001b[1;33m\u001b[0m\u001b[0m\n\u001b[1;32m-> 2522\u001b[1;33m     \u001b[0myfin\u001b[0m \u001b[1;33m=\u001b[0m \u001b[0misfinite\u001b[0m\u001b[1;33m(\u001b[0m\u001b[0my\u001b[0m\u001b[1;33m)\u001b[0m\u001b[1;33m\u001b[0m\u001b[1;33m\u001b[0m\u001b[0m\n\u001b[0m\u001b[0;32m   2523\u001b[0m     \u001b[1;32mif\u001b[0m \u001b[0mall\u001b[0m\u001b[1;33m(\u001b[0m\u001b[0mxfin\u001b[0m\u001b[1;33m)\u001b[0m \u001b[1;32mand\u001b[0m \u001b[0mall\u001b[0m\u001b[1;33m(\u001b[0m\u001b[0myfin\u001b[0m\u001b[1;33m)\u001b[0m\u001b[1;33m:\u001b[0m\u001b[1;33m\u001b[0m\u001b[1;33m\u001b[0m\u001b[0m\n\u001b[0;32m   2524\u001b[0m         \u001b[1;32mreturn\u001b[0m \u001b[0mwithin_tol\u001b[0m\u001b[1;33m(\u001b[0m\u001b[0mx\u001b[0m\u001b[1;33m,\u001b[0m \u001b[0my\u001b[0m\u001b[1;33m,\u001b[0m \u001b[0matol\u001b[0m\u001b[1;33m,\u001b[0m \u001b[0mrtol\u001b[0m\u001b[1;33m)\u001b[0m\u001b[1;33m\u001b[0m\u001b[1;33m\u001b[0m\u001b[0m\n",
      "\u001b[1;31mTypeError\u001b[0m: ufunc 'isfinite' not supported for the input types, and the inputs could not be safely coerced to any supported types according to the casting rule ''safe''"
     ]
    }
   ],
   "source": [
    "# test\n",
    "import numpy as np\n",
    "\n",
    "mlr = MyLinearRegression()\n",
    "\n",
    "X = [[1, 5], [3, 2], [6, 1]]\n",
    "y = [2, 3, 4]\n",
    "y_pred = mlr.fit(X, y).predict(X)\n",
    "print('Am I correct? \\n', np.isclose(y, y_pred).all())\n",
    "\n",
    "'''\n",
    "If true, return:\n",
    "\n",
    "Am I correct? \n",
    " True\n",
    "'''"
   ]
  },
  {
   "cell_type": "markdown",
   "metadata": {},
   "source": [
    "## Linear Regression In Action"
   ]
  },
  {
   "cell_type": "markdown",
   "metadata": {},
   "source": [
    "linear regression in action has four rules below:\n",
    "\n",
    "1. depdent variable $\\textbf{y}$ and independent variables $\\textbf{X}_{:,1}, ..., \\textbf{X}_{:,n}$ satisfies linear relation, independent variables are independent with each other\n",
    "\n",
    "1. there is no relationship between residuals\n",
    "\n",
    "1. variance of residuals on the both sides of regression line is equal or approximate (homoscedasticity)\n",
    "\n",
    "1. residuals are normally distributed, if restrains are lessen, we can say informally that histogram of residuals is bell-shaped curve\n",
    "\n",
    "Further reading:\n",
    "\n",
    "http://people.duke.edu/~rnau/testing.htm <br>\n",
    "\n",
    "http://blog.uwgb.edu/bansalg/statistics-data-analytics/linear-regression/what-are-the-four-assumptions-of-linear-regression/"
   ]
  },
  {
   "cell_type": "code",
   "execution_count": null,
   "metadata": {},
   "outputs": [],
   "source": [
    "import matplotlib.pyplot as plt\n",
    "import seaborn as sns\n",
    "import pandas as pd\n",
    "from sklearn import datasets\n",
    "\n",
    "# Load the diabetes dataset\n",
    "\n",
    "diabetes = datasets.load_diabetes()\n",
    "columns = ['age', 'sex', 'body mass index', \n",
    "           'average blood pressure', \n",
    "           'blood serum tc', 'blood serum ldl', 'blood serum hdl', \n",
    "           'blood serum tch', 'blood serum ltg', 'blood serum glu', \n",
    "           'response']\n",
    "\n",
    "# more at: http://web.stanford.edu/~hastie/Papers/LARS/LeastAngle_2002.pdf\n",
    "\n",
    "df = pd.DataFrame(data= np.c_[diabetes['data'], diabetes['target']], \n",
    "                  columns=columns)\n",
    "print(columns)\n",
    "sns.pairplot(df, size=3, diag_kind='hist')\n",
    "plt.show()"
   ]
  },
  {
   "cell_type": "code",
   "execution_count": null,
   "metadata": {},
   "outputs": [],
   "source": [
    "from sklearn import datasets, linear_model\n",
    "from sklearn.metrics import mean_squared_error, r2_score\n",
    "from sklearn.model_selection import train_test_split\n",
    "\n",
    "# Load the diabetes dataset\n",
    "\n",
    "diabetes = datasets.load_diabetes()\n",
    "X, y = diabetes.data, diabetes.target\n",
    "\n",
    "X_train, X_test, y_train, y_test = train_test_split(X, y, \n",
    "                                                    test_size=0.33, \n",
    "                                                    random_state=42)\n",
    "\n",
    "# Create linear regression object\n",
    "mlr2 = MyLinearRegression()\n",
    "\n",
    "# Train the model using the training sets\n",
    "mlr2.fit(X_train, y_train)\n",
    "\n",
    "# Make predictions using the testing set\n",
    "y_pred = mlr2.predict(X_test)\n",
    "\n",
    "# The coefficients\n",
    "w = mlr2.w\n",
    "print('w: \\n', w)\n",
    "\n",
    "# The mean squared error\n",
    "print(\"Mean squared error: %.2f\"\n",
    "      % mean_squared_error(y_test, y_pred))\n",
    "\n",
    "# Explained variance score: 1 is perfect prediction\n",
    "print('Variance score (r squared, r^2): %.2f' % r2_score(y_test, y_pred))"
   ]
  },
  {
   "cell_type": "markdown",
   "metadata": {},
   "source": [
    "## coefficient of determination: $r^2$ "
   ]
  },
  {
   "cell_type": "markdown",
   "metadata": {},
   "source": [
    "`sklearn.metrics.r2_score(y_true, y_pred, sample_weight=None, multioutput='uniform_average')`\n",
    "\n",
    "R^2 (coefficient of determination) regression score function.\n",
    "\n",
    "Best possible score is 1.0 and it can be negative (because the model can be arbitrarily worse). A constant model that always predicts the expected value of y, disregarding the input features, would get a R^2 score of 0.0.\n",
    "\n",
    "http://scikit-learn.org/stable/modules/generated/sklearn.metrics.r2_score.html"
   ]
  },
  {
   "cell_type": "markdown",
   "metadata": {},
   "source": [
    "In statistics, the explanatory power of the statistical model can be judged by measuring the proportion of the variation of the dependent variable that can be explained by the independent variable <br>\n",
    "\n",
    "For simple linear regression, the determination coefficient is the square of sample correlation coefficient<br>\n",
    "\n",
    "Sourse:<br> \n",
    "https://en.wikipedia.org/wiki/Coefficient_of_determination <br> \n",
    "\n",
    "Further reading:<br>\n",
    "http://blog.minitab.com/blog/adventures-in-statistics-2/regression-analysis-how-do-i-interpret-r-squared-and-assess-the-goodness-of-fit"
   ]
  },
  {
   "attachments": {
    "image.png": {
     "image/png": "[encoded data removed]"
    }
   },
   "cell_type": "markdown",
   "metadata": {},
   "source": [
    "![image.png](attachment:image.png)"
   ]
  },
  {
   "cell_type": "code",
   "execution_count": null,
   "metadata": {},
   "outputs": [],
   "source": [
    "import matplotlib.pyplot as plt\n",
    "\n",
    "fig = plt.figure(figsize=(7,14), dpi=120)\n",
    "\n",
    "for i in range(X_train.shape[1]):\n",
    "    y_pred3 = MyLinearRegression().fit(\n",
    "        X_train[:, i], y_train).predict(\n",
    "        X_test[:, i])\n",
    "    \n",
    "    ax = fig.add_subplot(5, 2, i + 1)\n",
    "    \n",
    "    ax.set_xlabel('X[:, %d]' % i)\n",
    "    \n",
    "    ax.set_ylabel('y')\n",
    "    \n",
    "    ax.scatter(X_train[:, i], y_train, \n",
    "               color='black', marker='^', \n",
    "               alpha=0.5, label='Train Data')\n",
    "    \n",
    "    ax.scatter(X_test[:, i], y_test, \n",
    "               color='black', \n",
    "               alpha=0.5, label='Test Data')\n",
    "    \n",
    "    ax.plot(X_test[:, i], y_pred3, \n",
    "            color='blue', \n",
    "            linewidth=3, label='Fitted Line')\n",
    "    \n",
    "    ax.set_title('MSE=%.2f, r^2=%.2f'% (\n",
    "                mean_squared_error(y_test, y_pred3), \n",
    "                r2_score(y_test, y_pred3)\n",
    "                )\n",
    "            )\n",
    "\n",
    "fig.tight_layout()\n",
    "plt.legend()\n",
    "plt.show()"
   ]
  },
  {
   "cell_type": "markdown",
   "metadata": {},
   "source": [
    "## Residuals"
   ]
  },
  {
   "cell_type": "code",
   "execution_count": null,
   "metadata": {
    "scrolled": false
   },
   "outputs": [],
   "source": [
    "import matplotlib.pyplot as plt\n",
    "import seaborn as sns\n",
    "\n",
    "fig, axes = plt.subplots(5, 2, figsize=(7,14), dpi=120)\n",
    "for i, ax in enumerate(np.ravel(axes)):\n",
    "    y_pred3 = MyLinearRegression().fit(\n",
    "        X_train[:, i], y_train).predict(\n",
    "        X_test[:, i])\n",
    "    sns.kdeplot(y_test - y_pred3, ax=ax)\n",
    "    ax.set_xlabel('Residuals')\n",
    "    ax.set_ylabel('Density Estimation')\n",
    "    ax.set_title('X[:, %d] MSE=%.2f, r^2=%.2f'% (\n",
    "                i,\n",
    "                mean_squared_error(y_test, y_pred3), \n",
    "                r2_score(y_test, y_pred3)\n",
    "                )\n",
    "            )\n",
    "fig.tight_layout()\n",
    "plt.show()"
   ]
  },
  {
   "cell_type": "markdown",
   "metadata": {},
   "source": [
    "#  `sklearn` linear regression"
   ]
  },
  {
   "cell_type": "code",
   "execution_count": null,
   "metadata": {},
   "outputs": [],
   "source": [
    "from sklearn import datasets, linear_model\n",
    "from sklearn.metrics import mean_squared_error, r2_score\n",
    "from sklearn.model_selection import train_test_split\n",
    "# Load the diabetes dataset\n",
    "\n",
    "diabetes = datasets.load_diabetes()\n",
    "X, y = diabetes.data, diabetes.target\n",
    "\n",
    "X_train, X_test, y_train, y_test = train_test_split(X, y, \n",
    "                                                    test_size=0.33, \n",
    "                                                    random_state=42)\n",
    "\n",
    "# Create linear regression object\n",
    "regr = linear_model.LinearRegression()\n",
    "\n",
    "# Train the model using the training sets\n",
    "regr.fit(X_train, y_train)\n",
    "\n",
    "# Make predictions using the testing set\n",
    "y_pred = regr.predict(X_test)\n",
    "\n",
    "\n",
    "# The coefficients\n",
    "w_1_to_n = regr.coef_\n",
    "w0 = regr.intercept_\n",
    "print('w_0: \\n', w0)\n",
    "print('w_1 to w_n: \\n', w_1_to_n)\n",
    "\n",
    "# The mean squared error\n",
    "print(\"Mean squared error: %.2f\"\n",
    "      % mean_squared_error(y_test, y_pred))\n",
    "\n",
    "# Explained variance score: 1 is perfect prediction\n",
    "print('Variance score (r squared, r^2): %.2f' % r2_score(y_test, y_pred))"
   ]
  },
  {
   "cell_type": "markdown",
   "metadata": {},
   "source": [
    "# Exercise"
   ]
  },
  {
   "cell_type": "raw",
   "metadata": {},
   "source": [
    "1.  Use `pandas`  `read_excel` to input`boston_housing_m.xlsx`<br>\n",
    "\n",
    "1.  Details of `boston_housing_m.xlsx`see `boston_housing_desc.txt`<br>\n",
    "\n",
    "1.  Set column `'MEDV'` as predicting target `y`<br>\n",
    "\n",
    "1.  Choose or properly change some columns, try to improve $r^2$ and MSE<br>"
   ]
  }
 ],
 "metadata": {
  "kernelspec": {
   "display_name": "Python 3",
   "language": "python",
   "name": "python3"
  },
  "language_info": {
   "codemirror_mode": {
    "name": "ipython",
    "version": 3
   },
   "file_extension": ".py",
   "mimetype": "text/x-python",
   "name": "python",
   "nbconvert_exporter": "python",
   "pygments_lexer": "ipython3",
   "version": "3.7.4"
  },
  "toc": {
   "base_numbering": 1,
   "nav_menu": {},
   "number_sections": true,
   "sideBar": true,
   "skip_h1_title": false,
   "title_cell": "Table of Contents",
   "title_sidebar": "Contents",
   "toc_cell": true,
   "toc_position": {},
   "toc_section_display": true,
   "toc_window_display": false
  }
 },
 "nbformat": 4,
 "nbformat_minor": 2
}
